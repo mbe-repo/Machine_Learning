{
 "cells": [
  {
   "cell_type": "code",
   "execution_count": 1,
   "metadata": {},
   "outputs": [],
   "source": [
    "import pandas as pd\n",
    "import numpy as np\n",
    "\n",
    "from matplotlib import pyplot as plt\n",
    "import seaborn as sns\n"
   ]
  },
  {
   "cell_type": "code",
   "execution_count": 2,
   "metadata": {},
   "outputs": [
    {
     "data": {
      "text/html": [
       "<div>\n",
       "<style scoped>\n",
       "    .dataframe tbody tr th:only-of-type {\n",
       "        vertical-align: middle;\n",
       "    }\n",
       "\n",
       "    .dataframe tbody tr th {\n",
       "        vertical-align: top;\n",
       "    }\n",
       "\n",
       "    .dataframe thead th {\n",
       "        text-align: right;\n",
       "    }\n",
       "</style>\n",
       "<table border=\"1\" class=\"dataframe\">\n",
       "  <thead>\n",
       "    <tr style=\"text-align: right;\">\n",
       "      <th></th>\n",
       "      <th>iid</th>\n",
       "      <th>id</th>\n",
       "      <th>gender</th>\n",
       "      <th>idg</th>\n",
       "      <th>condtn</th>\n",
       "      <th>wave</th>\n",
       "      <th>round</th>\n",
       "      <th>position</th>\n",
       "      <th>positin1</th>\n",
       "      <th>order</th>\n",
       "      <th>...</th>\n",
       "      <th>attr3_3</th>\n",
       "      <th>sinc3_3</th>\n",
       "      <th>intel3_3</th>\n",
       "      <th>fun3_3</th>\n",
       "      <th>amb3_3</th>\n",
       "      <th>attr5_3</th>\n",
       "      <th>sinc5_3</th>\n",
       "      <th>intel5_3</th>\n",
       "      <th>fun5_3</th>\n",
       "      <th>amb5_3</th>\n",
       "    </tr>\n",
       "  </thead>\n",
       "  <tbody>\n",
       "    <tr>\n",
       "      <th>0</th>\n",
       "      <td>1</td>\n",
       "      <td>1.0</td>\n",
       "      <td>0</td>\n",
       "      <td>1</td>\n",
       "      <td>1</td>\n",
       "      <td>1</td>\n",
       "      <td>10</td>\n",
       "      <td>7</td>\n",
       "      <td>NaN</td>\n",
       "      <td>4</td>\n",
       "      <td>...</td>\n",
       "      <td>5.0</td>\n",
       "      <td>7.0</td>\n",
       "      <td>7.0</td>\n",
       "      <td>7.0</td>\n",
       "      <td>7.0</td>\n",
       "      <td>NaN</td>\n",
       "      <td>NaN</td>\n",
       "      <td>NaN</td>\n",
       "      <td>NaN</td>\n",
       "      <td>NaN</td>\n",
       "    </tr>\n",
       "    <tr>\n",
       "      <th>1</th>\n",
       "      <td>1</td>\n",
       "      <td>1.0</td>\n",
       "      <td>0</td>\n",
       "      <td>1</td>\n",
       "      <td>1</td>\n",
       "      <td>1</td>\n",
       "      <td>10</td>\n",
       "      <td>7</td>\n",
       "      <td>NaN</td>\n",
       "      <td>3</td>\n",
       "      <td>...</td>\n",
       "      <td>5.0</td>\n",
       "      <td>7.0</td>\n",
       "      <td>7.0</td>\n",
       "      <td>7.0</td>\n",
       "      <td>7.0</td>\n",
       "      <td>NaN</td>\n",
       "      <td>NaN</td>\n",
       "      <td>NaN</td>\n",
       "      <td>NaN</td>\n",
       "      <td>NaN</td>\n",
       "    </tr>\n",
       "    <tr>\n",
       "      <th>2</th>\n",
       "      <td>1</td>\n",
       "      <td>1.0</td>\n",
       "      <td>0</td>\n",
       "      <td>1</td>\n",
       "      <td>1</td>\n",
       "      <td>1</td>\n",
       "      <td>10</td>\n",
       "      <td>7</td>\n",
       "      <td>NaN</td>\n",
       "      <td>10</td>\n",
       "      <td>...</td>\n",
       "      <td>5.0</td>\n",
       "      <td>7.0</td>\n",
       "      <td>7.0</td>\n",
       "      <td>7.0</td>\n",
       "      <td>7.0</td>\n",
       "      <td>NaN</td>\n",
       "      <td>NaN</td>\n",
       "      <td>NaN</td>\n",
       "      <td>NaN</td>\n",
       "      <td>NaN</td>\n",
       "    </tr>\n",
       "    <tr>\n",
       "      <th>3</th>\n",
       "      <td>1</td>\n",
       "      <td>1.0</td>\n",
       "      <td>0</td>\n",
       "      <td>1</td>\n",
       "      <td>1</td>\n",
       "      <td>1</td>\n",
       "      <td>10</td>\n",
       "      <td>7</td>\n",
       "      <td>NaN</td>\n",
       "      <td>5</td>\n",
       "      <td>...</td>\n",
       "      <td>5.0</td>\n",
       "      <td>7.0</td>\n",
       "      <td>7.0</td>\n",
       "      <td>7.0</td>\n",
       "      <td>7.0</td>\n",
       "      <td>NaN</td>\n",
       "      <td>NaN</td>\n",
       "      <td>NaN</td>\n",
       "      <td>NaN</td>\n",
       "      <td>NaN</td>\n",
       "    </tr>\n",
       "    <tr>\n",
       "      <th>4</th>\n",
       "      <td>1</td>\n",
       "      <td>1.0</td>\n",
       "      <td>0</td>\n",
       "      <td>1</td>\n",
       "      <td>1</td>\n",
       "      <td>1</td>\n",
       "      <td>10</td>\n",
       "      <td>7</td>\n",
       "      <td>NaN</td>\n",
       "      <td>7</td>\n",
       "      <td>...</td>\n",
       "      <td>5.0</td>\n",
       "      <td>7.0</td>\n",
       "      <td>7.0</td>\n",
       "      <td>7.0</td>\n",
       "      <td>7.0</td>\n",
       "      <td>NaN</td>\n",
       "      <td>NaN</td>\n",
       "      <td>NaN</td>\n",
       "      <td>NaN</td>\n",
       "      <td>NaN</td>\n",
       "    </tr>\n",
       "  </tbody>\n",
       "</table>\n",
       "<p>5 rows × 195 columns</p>\n",
       "</div>"
      ],
      "text/plain": [
       "   iid   id  gender  idg  condtn  wave  round  position  positin1  order  ...  \\\n",
       "0    1  1.0       0    1       1     1     10         7       NaN      4  ...   \n",
       "1    1  1.0       0    1       1     1     10         7       NaN      3  ...   \n",
       "2    1  1.0       0    1       1     1     10         7       NaN     10  ...   \n",
       "3    1  1.0       0    1       1     1     10         7       NaN      5  ...   \n",
       "4    1  1.0       0    1       1     1     10         7       NaN      7  ...   \n",
       "\n",
       "   attr3_3  sinc3_3  intel3_3  fun3_3  amb3_3  attr5_3  sinc5_3  intel5_3  \\\n",
       "0      5.0      7.0       7.0     7.0     7.0      NaN      NaN       NaN   \n",
       "1      5.0      7.0       7.0     7.0     7.0      NaN      NaN       NaN   \n",
       "2      5.0      7.0       7.0     7.0     7.0      NaN      NaN       NaN   \n",
       "3      5.0      7.0       7.0     7.0     7.0      NaN      NaN       NaN   \n",
       "4      5.0      7.0       7.0     7.0     7.0      NaN      NaN       NaN   \n",
       "\n",
       "   fun5_3  amb5_3  \n",
       "0     NaN     NaN  \n",
       "1     NaN     NaN  \n",
       "2     NaN     NaN  \n",
       "3     NaN     NaN  \n",
       "4     NaN     NaN  \n",
       "\n",
       "[5 rows x 195 columns]"
      ]
     },
     "execution_count": 2,
     "metadata": {},
     "output_type": "execute_result"
    }
   ],
   "source": [
    "data = pd.read_csv(\"Speed_Dating_Data.csv\",encoding = \"ISO-8859-1\")\n",
    "data.head()"
   ]
  },
  {
   "cell_type": "code",
   "execution_count": 3,
   "metadata": {},
   "outputs": [
    {
     "data": {
      "text/plain": [
       "(8378, 195)"
      ]
     },
     "execution_count": 3,
     "metadata": {},
     "output_type": "execute_result"
    }
   ],
   "source": [
    "data.shape"
   ]
  },
  {
   "cell_type": "code",
   "execution_count": 4,
   "metadata": {},
   "outputs": [],
   "source": [
    "data.rename(columns={\"condtn\":\"Condition\",\n",
    "                     \"mn_sat\":\"median_sat\",\n",
    "                     \"age_o\":\"age_of_partner\",\n",
    "                     \"race_o\":\"race_of_partner\",\n",
    "                     \"pf_o_att\":\"partner_stated_preference\", # préférence déclarée par le partenaire\n",
    "                     \"dec_o\":\"partner's_decision\",\n",
    "                     \"attr_o\":\"partner_rating_of_attributes\", # évaluation des attributs par le partenaire\n",
    "                     \"imprace\":\"race_importance\",\n",
    "                     \"imprelig\":\"religion_importance\",\n",
    "                     \"from\":\"originally_from\",\n",
    "                     \"date\":\"frequency_of_date\"},  # fréquence des rendez-vous\n",
    "                     inplace=True)"
   ]
  },
  {
   "cell_type": "code",
   "execution_count": 5,
   "metadata": {},
   "outputs": [
    {
     "data": {
      "text/html": [
       "<div>\n",
       "<style scoped>\n",
       "    .dataframe tbody tr th:only-of-type {\n",
       "        vertical-align: middle;\n",
       "    }\n",
       "\n",
       "    .dataframe tbody tr th {\n",
       "        vertical-align: top;\n",
       "    }\n",
       "\n",
       "    .dataframe thead th {\n",
       "        text-align: right;\n",
       "    }\n",
       "</style>\n",
       "<table border=\"1\" class=\"dataframe\">\n",
       "  <thead>\n",
       "    <tr style=\"text-align: right;\">\n",
       "      <th></th>\n",
       "      <th>iid</th>\n",
       "      <th>id</th>\n",
       "      <th>gender</th>\n",
       "      <th>idg</th>\n",
       "      <th>Condition</th>\n",
       "      <th>wave</th>\n",
       "      <th>round</th>\n",
       "      <th>position</th>\n",
       "      <th>positin1</th>\n",
       "      <th>order</th>\n",
       "      <th>...</th>\n",
       "      <th>attr3_3</th>\n",
       "      <th>sinc3_3</th>\n",
       "      <th>intel3_3</th>\n",
       "      <th>fun3_3</th>\n",
       "      <th>amb3_3</th>\n",
       "      <th>attr5_3</th>\n",
       "      <th>sinc5_3</th>\n",
       "      <th>intel5_3</th>\n",
       "      <th>fun5_3</th>\n",
       "      <th>amb5_3</th>\n",
       "    </tr>\n",
       "  </thead>\n",
       "  <tbody>\n",
       "    <tr>\n",
       "      <th>0</th>\n",
       "      <td>1</td>\n",
       "      <td>1.0</td>\n",
       "      <td>0</td>\n",
       "      <td>1</td>\n",
       "      <td>1</td>\n",
       "      <td>1</td>\n",
       "      <td>10</td>\n",
       "      <td>7</td>\n",
       "      <td>NaN</td>\n",
       "      <td>4</td>\n",
       "      <td>...</td>\n",
       "      <td>5.0</td>\n",
       "      <td>7.0</td>\n",
       "      <td>7.0</td>\n",
       "      <td>7.0</td>\n",
       "      <td>7.0</td>\n",
       "      <td>NaN</td>\n",
       "      <td>NaN</td>\n",
       "      <td>NaN</td>\n",
       "      <td>NaN</td>\n",
       "      <td>NaN</td>\n",
       "    </tr>\n",
       "    <tr>\n",
       "      <th>1</th>\n",
       "      <td>1</td>\n",
       "      <td>1.0</td>\n",
       "      <td>0</td>\n",
       "      <td>1</td>\n",
       "      <td>1</td>\n",
       "      <td>1</td>\n",
       "      <td>10</td>\n",
       "      <td>7</td>\n",
       "      <td>NaN</td>\n",
       "      <td>3</td>\n",
       "      <td>...</td>\n",
       "      <td>5.0</td>\n",
       "      <td>7.0</td>\n",
       "      <td>7.0</td>\n",
       "      <td>7.0</td>\n",
       "      <td>7.0</td>\n",
       "      <td>NaN</td>\n",
       "      <td>NaN</td>\n",
       "      <td>NaN</td>\n",
       "      <td>NaN</td>\n",
       "      <td>NaN</td>\n",
       "    </tr>\n",
       "    <tr>\n",
       "      <th>2</th>\n",
       "      <td>1</td>\n",
       "      <td>1.0</td>\n",
       "      <td>0</td>\n",
       "      <td>1</td>\n",
       "      <td>1</td>\n",
       "      <td>1</td>\n",
       "      <td>10</td>\n",
       "      <td>7</td>\n",
       "      <td>NaN</td>\n",
       "      <td>10</td>\n",
       "      <td>...</td>\n",
       "      <td>5.0</td>\n",
       "      <td>7.0</td>\n",
       "      <td>7.0</td>\n",
       "      <td>7.0</td>\n",
       "      <td>7.0</td>\n",
       "      <td>NaN</td>\n",
       "      <td>NaN</td>\n",
       "      <td>NaN</td>\n",
       "      <td>NaN</td>\n",
       "      <td>NaN</td>\n",
       "    </tr>\n",
       "    <tr>\n",
       "      <th>3</th>\n",
       "      <td>1</td>\n",
       "      <td>1.0</td>\n",
       "      <td>0</td>\n",
       "      <td>1</td>\n",
       "      <td>1</td>\n",
       "      <td>1</td>\n",
       "      <td>10</td>\n",
       "      <td>7</td>\n",
       "      <td>NaN</td>\n",
       "      <td>5</td>\n",
       "      <td>...</td>\n",
       "      <td>5.0</td>\n",
       "      <td>7.0</td>\n",
       "      <td>7.0</td>\n",
       "      <td>7.0</td>\n",
       "      <td>7.0</td>\n",
       "      <td>NaN</td>\n",
       "      <td>NaN</td>\n",
       "      <td>NaN</td>\n",
       "      <td>NaN</td>\n",
       "      <td>NaN</td>\n",
       "    </tr>\n",
       "    <tr>\n",
       "      <th>4</th>\n",
       "      <td>1</td>\n",
       "      <td>1.0</td>\n",
       "      <td>0</td>\n",
       "      <td>1</td>\n",
       "      <td>1</td>\n",
       "      <td>1</td>\n",
       "      <td>10</td>\n",
       "      <td>7</td>\n",
       "      <td>NaN</td>\n",
       "      <td>7</td>\n",
       "      <td>...</td>\n",
       "      <td>5.0</td>\n",
       "      <td>7.0</td>\n",
       "      <td>7.0</td>\n",
       "      <td>7.0</td>\n",
       "      <td>7.0</td>\n",
       "      <td>NaN</td>\n",
       "      <td>NaN</td>\n",
       "      <td>NaN</td>\n",
       "      <td>NaN</td>\n",
       "      <td>NaN</td>\n",
       "    </tr>\n",
       "  </tbody>\n",
       "</table>\n",
       "<p>5 rows × 195 columns</p>\n",
       "</div>"
      ],
      "text/plain": [
       "   iid   id  gender  idg  Condition  wave  round  position  positin1  order  \\\n",
       "0    1  1.0       0    1          1     1     10         7       NaN      4   \n",
       "1    1  1.0       0    1          1     1     10         7       NaN      3   \n",
       "2    1  1.0       0    1          1     1     10         7       NaN     10   \n",
       "3    1  1.0       0    1          1     1     10         7       NaN      5   \n",
       "4    1  1.0       0    1          1     1     10         7       NaN      7   \n",
       "\n",
       "   ...  attr3_3  sinc3_3  intel3_3  fun3_3  amb3_3  attr5_3  sinc5_3  \\\n",
       "0  ...      5.0      7.0       7.0     7.0     7.0      NaN      NaN   \n",
       "1  ...      5.0      7.0       7.0     7.0     7.0      NaN      NaN   \n",
       "2  ...      5.0      7.0       7.0     7.0     7.0      NaN      NaN   \n",
       "3  ...      5.0      7.0       7.0     7.0     7.0      NaN      NaN   \n",
       "4  ...      5.0      7.0       7.0     7.0     7.0      NaN      NaN   \n",
       "\n",
       "   intel5_3  fun5_3  amb5_3  \n",
       "0       NaN     NaN     NaN  \n",
       "1       NaN     NaN     NaN  \n",
       "2       NaN     NaN     NaN  \n",
       "3       NaN     NaN     NaN  \n",
       "4       NaN     NaN     NaN  \n",
       "\n",
       "[5 rows x 195 columns]"
      ]
     },
     "execution_count": 5,
     "metadata": {},
     "output_type": "execute_result"
    }
   ],
   "source": [
    "data.head()"
   ]
  },
  {
   "cell_type": "code",
   "execution_count": 6,
   "metadata": {},
   "outputs": [],
   "source": [
    "# replace gender\n",
    "data['gender'] = data['gender'].replace([0,1],['female','male'])"
   ]
  },
  {
   "cell_type": "code",
   "execution_count": 7,
   "metadata": {},
   "outputs": [],
   "source": [
    "# replace race\n",
    "data['race'] = data['race'].replace([1,2,3,4,5,6],\n",
    "                                    [\"Black/African American\",\"European/Caucasion-American\",\"Latino/Hispanic American\",\n",
    "                                     \"Asian/Pacific Islander/Asian-American\", \"Native American\",\"Other\"])"
   ]
  },
  {
   "cell_type": "code",
   "execution_count": 8,
   "metadata": {},
   "outputs": [],
   "source": [
    "data.race_of_partner = data.race_of_partner.replace([1,2,3,4,5,6],\n",
    "                                            [\"Black/African American\",\"European/Caucasion-American\",\"Latino/Hispanic American\",\n",
    "                                             \"Asian/Pacific Islander/Asian-American\", \"Native American\",\"Other\"])"
   ]
  },
  {
   "cell_type": "code",
   "execution_count": 9,
   "metadata": {},
   "outputs": [],
   "source": [
    "# carrière envisagée\n",
    "data.career_c = data.career_c.replace([1,2,3,4,5,6,7,8,9,10,11,12,13,14,15,16,17],\n",
    "                                     [\"Lawyer\",\"Academic/Research\",\"Psychologist\",\"Doctor/Medicine\",\"Engineer\",\"Creative Arts/Entertainment\", \n",
    "                                      \"Banking/Consulting/Finance/Marketing/Business/CEO/Entrepreneur/Admin\",\"Real Estate\" ,\"International/Humanitarian Affairs\",\n",
    "                                      \"Undecided\", \"Social Work\",\"Speech Pathology\",\"Politics\",\"Pro sports/Athletics\",\"Other\",\"Journalism\",\"Architecture\"])\n"
   ]
  },
  {
   "cell_type": "code",
   "execution_count": 10,
   "metadata": {},
   "outputs": [],
   "source": [
    "# but de speeg dating\n",
    "data.goal=data.goal.replace([1,2,3,4,5,6],\n",
    "                            [\"Seemed like a fan night out\",\"To meet new people\",\"To get a date\",\"Looking for serious relationship\",\n",
    "                             \"To say I did it\",\"Other\"])"
   ]
  },
  {
   "cell_type": "code",
   "execution_count": 11,
   "metadata": {},
   "outputs": [],
   "source": [
    "data.frequency_of_date = data.frequency_of_date.replace([1,2,3,4,5,6,7],\n",
    "                                                        [\"Several times a week\",\"Twice a week\",\"Once a week\",\"Twice a month\",\n",
    "                                                        \"Once a month\",\"Several times a year\",\"Almost never\"])"
   ]
  },
  {
   "cell_type": "code",
   "execution_count": 12,
   "metadata": {},
   "outputs": [],
   "source": [
    "#print(data.columns.tolist())"
   ]
  },
  {
   "cell_type": "code",
   "execution_count": 13,
   "metadata": {},
   "outputs": [],
   "source": [
    "#data.head(1)"
   ]
  },
  {
   "cell_type": "code",
   "execution_count": 14,
   "metadata": {},
   "outputs": [],
   "source": [
    "# statistiques de l'échantillon"
   ]
  },
  {
   "cell_type": "code",
   "execution_count": 15,
   "metadata": {},
   "outputs": [],
   "source": [
    "cols = ['iid','gender','race','originally_from','income','goal','frequency_of_date']\n",
    "analysis_stat = data[cols] "
   ]
  },
  {
   "cell_type": "code",
   "execution_count": 16,
   "metadata": {},
   "outputs": [
    {
     "data": {
      "text/plain": [
       "(551, 7)"
      ]
     },
     "execution_count": 16,
     "metadata": {},
     "output_type": "execute_result"
    }
   ],
   "source": [
    "analysis_stat=analysis_stat.drop_duplicates(subset=['iid','gender','race','originally_from','income','goal','frequency_of_date'], keep='first')\n",
    "analysis_stat.shape"
   ]
  },
  {
   "cell_type": "markdown",
   "metadata": {},
   "source": [
    "#### Distributions"
   ]
  },
  {
   "cell_type": "code",
   "execution_count": 17,
   "metadata": {},
   "outputs": [
    {
     "name": "stdout",
     "output_type": "stream",
     "text": [
      "Nombre de participant : 551\n",
      "\n",
      "Nombre de femme : 274\n",
      "\n",
      "Nombre d'homme : 277\n",
      "\n"
     ]
    },
    {
     "data": {
      "image/png": "[encoded data removed]",
      "text/plain": [
       "<Figure size 432x288 with 1 Axes>"
      ]
     },
     "metadata": {
      "needs_background": "light"
     },
     "output_type": "display_data"
    }
   ],
   "source": [
    "# distributions\n",
    "\n",
    "print(f\"Nombre de participant : {len(data.iid.unique())}\")\n",
    "print('')\n",
    "print(f\"Nombre de femme : {len(data[data.gender == 'female'].iid.unique())}\")\n",
    "print('')\n",
    "print(f\"Nombre d'homme : {len(data[data.gender == 'male'].iid.unique())}\")\n",
    "print('')\n",
    "\n",
    "ax = sns.barplot(x = 'gender', y = 'iid', data = analysis_stat).set_title('Distribution female / male')\n",
    "plt.xlabel(\"F / M\")\n",
    "plt.ylabel(\"nombre\")\n",
    "\n",
    "plt.show()"
   ]
  },
  {
   "cell_type": "code",
   "execution_count": 18,
   "metadata": {},
   "outputs": [
    {
     "data": {
      "image/png": "[encoded data removed]",
      "text/plain": [
       "<Figure size 432x288 with 1 Axes>"
      ]
     },
     "metadata": {},
     "output_type": "display_data"
    }
   ],
   "source": [
    "explode=(0,0,0,0.1,0)\n",
    "\n",
    "ax = analysis_stat.groupby(['race']).size().plot.pie(y=\"iid\",autopct='%2.0f%%', explode=explode, title=\"Distribution par origine\")\n",
    "\n",
    "plt.show()"
   ]
  },
  {
   "cell_type": "code",
   "execution_count": 19,
   "metadata": {},
   "outputs": [],
   "source": [
    "# revenu en int\n",
    "\n",
    "analysis_stat['income'].replace(regex=['.00'], value =\"\", inplace=True)\n",
    "analysis_stat['income'].replace(regex=[','], value =\"\", inplace=True)\n",
    "analysis_stat['income'] = pd.to_numeric(analysis_stat['income'])"
   ]
  },
  {
   "cell_type": "code",
   "execution_count": 20,
   "metadata": {},
   "outputs": [],
   "source": [
    "# remplacer Nan\n",
    "analysis_stat['income'].fillna((analysis_stat['income'].mean()), inplace=True)\n",
    "analysis_stat.fillna(analysis_stat.select_dtypes(include='object').mode().iloc[0], inplace=True)"
   ]
  },
  {
   "cell_type": "code",
   "execution_count": 21,
   "metadata": {},
   "outputs": [
    {
     "name": "stdout",
     "output_type": "stream",
     "text": [
      "revenu moyen annuelle des femmes : 43774.55196508826\n",
      "revenu moyen annuelle des hommes : 44117.707786785344\n"
     ]
    }
   ],
   "source": [
    "# revenu moyen des F et H\n",
    "\n",
    "print(f\"revenu moyen annuelle des femmes : {analysis_stat[analysis_stat.gender == 'female'].income.mean()}\")\n",
    "\n",
    "print(f\"revenu moyen annuelle des hommes : {analysis_stat[analysis_stat.gender == 'male'].income.mean()}\")\n"
   ]
  },
  {
   "cell_type": "code",
   "execution_count": 22,
   "metadata": {},
   "outputs": [
    {
     "data": {
      "image/png": "[encoded data removed]",
      "text/plain": [
       "<Figure size 432x288 with 1 Axes>"
      ]
     },
     "metadata": {},
     "output_type": "display_data"
    }
   ],
   "source": [
    "ax = analysis_stat.groupby(['goal']).size().plot.pie(y=\"iid\",autopct='%2.0f%%', title=\"Goal of the Speed dating\")\n"
   ]
  },
  {
   "cell_type": "code",
   "execution_count": 23,
   "metadata": {},
   "outputs": [
    {
     "data": {
      "image/png": "[encoded data removed]",
      "text/plain": [
       "<Figure size 432x288 with 1 Axes>"
      ]
     },
     "metadata": {},
     "output_type": "display_data"
    }
   ],
   "source": [
    "ax = analysis_stat.groupby(['frequency_of_date']).size().plot.pie(y=\"iid\",autopct='%2.0f%%', title=\"Frequency of date\")"
   ]
  },
  {
   "cell_type": "code",
   "execution_count": 25,
   "metadata": {},
   "outputs": [
    {
     "data": {
      "text/plain": [
       "Academic/Research                                                       2320\n",
       "Banking/Consulting/Finance/Marketing/Business/CEO/Entrepreneur/Admin    2170\n",
       "Creative Arts/Entertainment                                              724\n",
       "Lawyer                                                                   675\n",
       "International/Humanitarian Affairs                                       547\n",
       "Doctor/Medicine                                                          421\n",
       "Undecided                                                                379\n",
       "Psychologist                                                             261\n",
       "Engineer                                                                 234\n",
       "Social Work                                                              220\n",
       "Politics                                                                  81\n",
       "Other                                                                     77\n",
       "Journalism                                                                44\n",
       "Real Estate                                                               39\n",
       "Speech Pathology                                                          28\n",
       "Architecture                                                              10\n",
       "Pro sports/Athletics                                                      10\n",
       "Name: career_c, dtype: int64"
      ]
     },
     "execution_count": 25,
     "metadata": {},
     "output_type": "execute_result"
    }
   ],
   "source": [
    "# carrière envisagée\n",
    "data.career_c.value_counts()"
   ]
  },
  {
   "cell_type": "code",
   "execution_count": 26,
   "metadata": {},
   "outputs": [
    {
     "data": {
      "text/plain": [
       "0    5062\n",
       "1    3316\n",
       "Name: samerace, dtype: int64"
      ]
     },
     "execution_count": 26,
     "metadata": {},
     "output_type": "execute_result"
    }
   ],
   "source": [
    "# même origine\n",
    "data.samerace.value_counts()"
   ]
  },
  {
   "cell_type": "code",
   "execution_count": 27,
   "metadata": {},
   "outputs": [
    {
     "data": {
      "text/plain": [
       "(551, 7)"
      ]
     },
     "execution_count": 27,
     "metadata": {},
     "output_type": "execute_result"
    }
   ],
   "source": [
    "analysis_stat=analysis_stat.drop_duplicates(subset=['iid','gender','race','originally_from','income','goal','frequency_of_date'], keep='first')\n",
    "analysis_stat.shape"
   ]
  },
  {
   "cell_type": "code",
   "execution_count": 28,
   "metadata": {},
   "outputs": [
    {
     "name": "stdout",
     "output_type": "stream",
     "text": [
      "Nombre total de participant : 551\n",
      "---\n",
      "Nombre de participant par date de speed dating :\n"
     ]
    },
    {
     "data": {
      "text/html": [
       "<div>\n",
       "<style scoped>\n",
       "    .dataframe tbody tr th:only-of-type {\n",
       "        vertical-align: middle;\n",
       "    }\n",
       "\n",
       "    .dataframe tbody tr th {\n",
       "        vertical-align: top;\n",
       "    }\n",
       "\n",
       "    .dataframe thead th {\n",
       "        text-align: right;\n",
       "    }\n",
       "</style>\n",
       "<table border=\"1\" class=\"dataframe\">\n",
       "  <thead>\n",
       "    <tr style=\"text-align: right;\">\n",
       "      <th></th>\n",
       "      <th>iid</th>\n",
       "    </tr>\n",
       "    <tr>\n",
       "      <th>wave</th>\n",
       "      <th></th>\n",
       "    </tr>\n",
       "  </thead>\n",
       "  <tbody>\n",
       "    <tr>\n",
       "      <th>1</th>\n",
       "      <td>20</td>\n",
       "    </tr>\n",
       "    <tr>\n",
       "      <th>2</th>\n",
       "      <td>35</td>\n",
       "    </tr>\n",
       "    <tr>\n",
       "      <th>3</th>\n",
       "      <td>20</td>\n",
       "    </tr>\n",
       "    <tr>\n",
       "      <th>4</th>\n",
       "      <td>36</td>\n",
       "    </tr>\n",
       "    <tr>\n",
       "      <th>5</th>\n",
       "      <td>19</td>\n",
       "    </tr>\n",
       "    <tr>\n",
       "      <th>6</th>\n",
       "      <td>10</td>\n",
       "    </tr>\n",
       "    <tr>\n",
       "      <th>7</th>\n",
       "      <td>32</td>\n",
       "    </tr>\n",
       "    <tr>\n",
       "      <th>8</th>\n",
       "      <td>20</td>\n",
       "    </tr>\n",
       "    <tr>\n",
       "      <th>9</th>\n",
       "      <td>40</td>\n",
       "    </tr>\n",
       "    <tr>\n",
       "      <th>10</th>\n",
       "      <td>18</td>\n",
       "    </tr>\n",
       "    <tr>\n",
       "      <th>11</th>\n",
       "      <td>42</td>\n",
       "    </tr>\n",
       "    <tr>\n",
       "      <th>12</th>\n",
       "      <td>28</td>\n",
       "    </tr>\n",
       "    <tr>\n",
       "      <th>13</th>\n",
       "      <td>19</td>\n",
       "    </tr>\n",
       "    <tr>\n",
       "      <th>14</th>\n",
       "      <td>38</td>\n",
       "    </tr>\n",
       "    <tr>\n",
       "      <th>15</th>\n",
       "      <td>37</td>\n",
       "    </tr>\n",
       "    <tr>\n",
       "      <th>16</th>\n",
       "      <td>14</td>\n",
       "    </tr>\n",
       "    <tr>\n",
       "      <th>17</th>\n",
       "      <td>24</td>\n",
       "    </tr>\n",
       "    <tr>\n",
       "      <th>18</th>\n",
       "      <td>12</td>\n",
       "    </tr>\n",
       "    <tr>\n",
       "      <th>19</th>\n",
       "      <td>30</td>\n",
       "    </tr>\n",
       "    <tr>\n",
       "      <th>20</th>\n",
       "      <td>13</td>\n",
       "    </tr>\n",
       "    <tr>\n",
       "      <th>21</th>\n",
       "      <td>44</td>\n",
       "    </tr>\n",
       "  </tbody>\n",
       "</table>\n",
       "</div>"
      ],
      "text/plain": [
       "      iid\n",
       "wave     \n",
       "1      20\n",
       "2      35\n",
       "3      20\n",
       "4      36\n",
       "5      19\n",
       "6      10\n",
       "7      32\n",
       "8      20\n",
       "9      40\n",
       "10     18\n",
       "11     42\n",
       "12     28\n",
       "13     19\n",
       "14     38\n",
       "15     37\n",
       "16     14\n",
       "17     24\n",
       "18     12\n",
       "19     30\n",
       "20     13\n",
       "21     44"
      ]
     },
     "execution_count": 28,
     "metadata": {},
     "output_type": "execute_result"
    }
   ],
   "source": [
    "cols = ['wave','iid']\n",
    "wave = data[cols]\n",
    "\n",
    "wave = wave.drop_duplicates(subset=['wave','iid'], keep='first')\n",
    "\n",
    "print(f\"Nombre total de participant : {wave.shape[0]}\")\n",
    "print(\"---\")\n",
    "print(\"Nombre de participant par date de speed dating :\")\n",
    "\n",
    "wave.groupby(['wave']).agg({'iid': 'count'})\n"
   ]
  },
  {
   "cell_type": "code",
   "execution_count": 29,
   "metadata": {},
   "outputs": [
    {
     "name": "stdout",
     "output_type": "stream",
     "text": [
      "Le nombre de rencontre par dates de speed dating :\n"
     ]
    },
    {
     "data": {
      "text/plain": [
       "iid\n",
       "141     5\n",
       "140     5\n",
       "139     5\n",
       "138     5\n",
       "137     5\n",
       "       ..\n",
       "525    22\n",
       "526    22\n",
       "527    22\n",
       "529    22\n",
       "552    22\n",
       "Name: iid, Length: 551, dtype: int64"
      ]
     },
     "execution_count": 29,
     "metadata": {},
     "output_type": "execute_result"
    }
   ],
   "source": [
    "print(\"Le nombre de rencontre par dates de speed dating :\")\n",
    "\n",
    "data.groupby('iid')['iid'].count().sort_values(ascending=True)"
   ]
  },
  {
   "cell_type": "code",
   "execution_count": 30,
   "metadata": {},
   "outputs": [
    {
     "name": "stdout",
     "output_type": "stream",
     "text": [
      "Nombre total de participant : 551\n",
      "Nombre de participant ayant au moins 1 match : 452\n",
      "-----\n",
      "Nombre total de participant sans aucun match : 99\n",
      "soit : 22%\n"
     ]
    }
   ],
   "source": [
    "# iid de ceux qui ont matcher\n",
    "\n",
    "participants = data[['iid','wave']].drop_duplicates(subset=['iid','wave'], keep='first')\n",
    "print(f\"Nombre total de participant : {len(participants)}\")\n",
    "\n",
    "match = data[data['match'] == 1]\n",
    "match = match[['iid','wave']].drop_duplicates(subset=['iid','wave'], keep='first')\n",
    "\n",
    "print(f\"Nombre de participant ayant au moins 1 match : {len(match)}\")\n",
    "\n",
    "print ('-----')\n",
    "\n",
    "# sans_match \n",
    "no_match = pd.merge(participants,match, on='iid', how='left')\n",
    "\n",
    "print(f\"Nombre total de participant sans aucun match : {no_match.wave_y.isnull().sum()}\")\n",
    "\n",
    "print(f\"soit : {round(((no_match.wave_y.isnull().sum())/(len(match)))*100)}%\")"
   ]
  },
  {
   "cell_type": "code",
   "execution_count": 31,
   "metadata": {},
   "outputs": [],
   "source": [
    "no_match = no_match[no_match.wave_y.isnull()]"
   ]
  },
  {
   "cell_type": "code",
   "execution_count": 32,
   "metadata": {},
   "outputs": [],
   "source": [
    "no_match_participant = pd.merge(data,no_match, on='iid', how='inner')"
   ]
  },
  {
   "cell_type": "code",
   "execution_count": 33,
   "metadata": {},
   "outputs": [],
   "source": [
    "no_match_participant = no_match_participant[['iid','gender','match','goal','go_out']]"
   ]
  },
  {
   "cell_type": "code",
   "execution_count": 34,
   "metadata": {},
   "outputs": [],
   "source": [
    "no_match_participant = no_match_participant.drop_duplicates(subset=['iid','gender','match','goal','go_out'], keep='first')"
   ]
  },
  {
   "cell_type": "code",
   "execution_count": 35,
   "metadata": {
    "scrolled": true
   },
   "outputs": [
    {
     "name": "stdout",
     "output_type": "stream",
     "text": [
      "PROFIL DES PARTICIPANT N'AYANT PAS MATCHÉ\n",
      "\n",
      "Répartition : Autant d'homme que de femme :\n",
      "\n",
      "female    53\n",
      "male      46\n",
      "Name: gender, dtype: int64\n",
      "----\n",
      "Veulent sortir et rencontrer des gens :\n",
      "\n",
      "Seemed like a fan night out         36\n",
      "To meet new people                  35\n",
      "Other                               12\n",
      "To say I did it                      8\n",
      "To get a date                        4\n",
      "Looking for serious relationship     3\n",
      "Name: goal, dtype: int64\n",
      "----\n",
      "Sortent souvent 1 à 3 fois par semaine :\n",
      "\n",
      "3.0    30\n",
      "1.0    29\n",
      "2.0    25\n",
      "4.0     8\n",
      "5.0     5\n",
      "7.0     1\n",
      "Name: go_out, dtype: int64\n",
      "----\n"
     ]
    }
   ],
   "source": [
    "# Statistiques de ceux qui n'ont matché avec personne\n",
    "\n",
    "print(\"PROFIL DES PARTICIPANT N'AYANT PAS MATCHÉ\")\n",
    "print(\"\")\n",
    "print(\"Répartition : Autant d'homme que de femme :\")\n",
    "print('')\n",
    "print(no_match_participant.gender.value_counts())\n",
    "print('----')\n",
    "\n",
    "print(\"Veulent sortir et rencontrer des gens :\")\n",
    "print('')\n",
    "print(no_match_participant.goal.value_counts())\n",
    "print('----')\n",
    "\n",
    "print('Sortent souvent 1 à 3 fois par semaine :')\n",
    "print('')\n",
    "print(no_match_participant.go_out.value_counts())\n",
    "print('----')\n"
   ]
  },
  {
   "cell_type": "code",
   "execution_count": 36,
   "metadata": {},
   "outputs": [],
   "source": [
    "# nombre de personne qui ont matché plusieurs fois\n",
    "\n",
    "data_match = data[data.match == 1]\n",
    "data_match = data_match[['wave','iid','gender','match','goal','frequency_of_date','go_out']]\n",
    "#data_match = data_match.drop_duplicates(subset=['wave','iid','gender','match','goal','frequency_of_date','go_out'], keep='first')\n",
    "\n",
    "#match_participant = pd.merge(data_match,match, on='iid')\n",
    "#match_participant = match_participant[['iid','gender','match','goal','frequency_of_date','go_out']]\n"
   ]
  },
  {
   "cell_type": "code",
   "execution_count": 37,
   "metadata": {},
   "outputs": [
    {
     "name": "stdout",
     "output_type": "stream",
     "text": [
      "Nombre de participant ayant matché au moins 1 fois : 452\n"
     ]
    }
   ],
   "source": [
    "print(f\"Nombre de participant ayant matché au moins 1 fois : {len(data_match.iid.value_counts())}\")\n"
   ]
  },
  {
   "cell_type": "code",
   "execution_count": 38,
   "metadata": {},
   "outputs": [
    {
     "data": {
      "text/plain": [
       "524    14\n",
       "208    11\n",
       "107    11\n",
       "268    10\n",
       "366    10\n",
       "       ..\n",
       "136     1\n",
       "134     1\n",
       "132     1\n",
       "303     1\n",
       "426     1\n",
       "Name: iid, Length: 452, dtype: int64"
      ]
     },
     "execution_count": 38,
     "metadata": {},
     "output_type": "execute_result"
    }
   ],
   "source": [
    "data_match.iid.value_counts()"
   ]
  },
  {
   "cell_type": "code",
   "execution_count": 39,
   "metadata": {},
   "outputs": [],
   "source": [
    "data_match.drop('match', axis=1, inplace=True)\n",
    "data_match = data_match.drop_duplicates(subset=['wave','iid','gender','goal','frequency_of_date','go_out'],\n",
    "                                        keep='first')"
   ]
  },
  {
   "cell_type": "code",
   "execution_count": 40,
   "metadata": {},
   "outputs": [
    {
     "name": "stdout",
     "output_type": "stream",
     "text": [
      "PROFIL DES PARTICIPANT AYANT MATCHÉ\n",
      "\n",
      "Répartition : Autant d'homme que de femme :\n",
      "\n",
      "male      231\n",
      "female    221\n",
      "Name: gender, dtype: int64\n",
      "----\n",
      "Veulent sortir et rencontrer des gens :\n",
      "\n",
      "Seemed like a fan night out         192\n",
      "To meet new people                  154\n",
      "To get a date                        36\n",
      "To say I did it                      27\n",
      "Looking for serious relationship     19\n",
      "Other                                18\n",
      "Name: goal, dtype: int64\n",
      "----\n",
      "Sortent souvent 1 à 3 fois par semaine :\n",
      "\n",
      "2.0    166\n",
      "1.0    148\n",
      "3.0     97\n",
      "4.0     21\n",
      "5.0      7\n",
      "6.0      6\n",
      "7.0      1\n",
      "Name: go_out, dtype: int64\n",
      "----\n"
     ]
    }
   ],
   "source": [
    "# Statistiques de ceux qui ont matché avec personne\n",
    "\n",
    "print(\"PROFIL DES PARTICIPANT AYANT MATCHÉ\")\n",
    "print(\"\")\n",
    "print(\"Répartition : Autant d'homme que de femme :\")\n",
    "print('')\n",
    "print(data_match.gender.value_counts())\n",
    "print('----')\n",
    "\n",
    "print(\"Veulent sortir et rencontrer des gens :\")\n",
    "print('')\n",
    "print(data_match.goal.value_counts())\n",
    "print('----')\n",
    "\n",
    "print('Sortent souvent 1 à 3 fois par semaine :')\n",
    "print('')\n",
    "print(data_match.go_out.value_counts())\n",
    "print('----')"
   ]
  },
  {
   "cell_type": "code",
   "execution_count": 41,
   "metadata": {},
   "outputs": [],
   "source": [
    "# what you look for in the opposite sex.\n",
    "# (1=not at all important, 10=extremely important).\n",
    "\n",
    "look_for = data[data.match==1]\n",
    "cols_1s = ['iid','gender','attr1_s','sinc1_s','intel1_s','fun1_s','amb1_s','shar1_s']\n",
    "look_for = look_for[cols_1s]\n",
    "look_for = look_for.drop_duplicates(subset=['iid','gender','attr1_s','sinc1_s','intel1_s','fun1_s','amb1_s','shar1_s'],\n",
    "                                        keep='first')"
   ]
  },
  {
   "cell_type": "code",
   "execution_count": 42,
   "metadata": {},
   "outputs": [
    {
     "name": "stdout",
     "output_type": "stream",
     "text": [
      "50 % des participants ayant matché n'ont pas indiqué ce qu'ils recherchent chez l'autre\n",
      "\n",
      "participant ayant matché 452\n",
      "\n",
      "iid           0\n",
      "gender        0\n",
      "attr1_s     224\n",
      "sinc1_s     224\n",
      "intel1_s    224\n",
      "fun1_s      224\n",
      "amb1_s      224\n",
      "shar1_s     224\n",
      "dtype: int64\n"
     ]
    }
   ],
   "source": [
    "print(\"50 % des participants ayant matché n'ont pas indiqué ce qu'ils recherchent chez l'autre\")\n",
    "print(\"\")     \n",
    "print(f\"participant ayant matché {look_for.shape[0]}\")\n",
    "print(\"\")\n",
    "print(look_for.isnull().sum())"
   ]
  },
  {
   "cell_type": "code",
   "execution_count": 43,
   "metadata": {},
   "outputs": [
    {
     "name": "stdout",
     "output_type": "stream",
     "text": [
      "attr1_s     20.942368\n",
      "intel1_s    17.196360\n",
      "fun1_s      15.132237\n",
      "sinc1_s     15.090789\n",
      "shar1_s     12.063070\n",
      "amb1_s      10.931096\n",
      "dtype: float64\n"
     ]
    },
    {
     "data": {
      "image/png": "[encoded data removed]",
      "text/plain": [
       "<Figure size 720x288 with 1 Axes>"
      ]
     },
     "metadata": {
      "needs_background": "light"
     },
     "output_type": "display_data"
    }
   ],
   "source": [
    "look_for.iloc[:, 2:8].mean().sort_values(ascending=False)\n",
    "att = look_for.iloc[:, 2:8].mean().sort_values(ascending=False)\n",
    "print(att)\n",
    "#a.plot.pie(y='hours', title=\"Title\", legend=False, autopct='%1.1f%%')\n",
    "\n",
    "ax = att.plot(kind='bar', figsize=(10,4),title='critères recherchés : attirance et intelligence', width=0.8, color = '#5cb85c',edgecolor=None)\n"
   ]
  },
  {
   "cell_type": "code",
   "execution_count": 44,
   "metadata": {},
   "outputs": [
    {
     "name": "stdout",
     "output_type": "stream",
     "text": [
      "Moyenne des attributs des personnes ayant au mois un match : 15.23\n"
     ]
    }
   ],
   "source": [
    "print(f\"Moyenne des attributs des personnes ayant au mois un match : {round(att.mean(),2)}\")\n"
   ]
  },
  {
   "cell_type": "code",
   "execution_count": 45,
   "metadata": {},
   "outputs": [],
   "source": [
    "# no_match_participant_look_for\n",
    "no_match_participant_look_for = pd.merge(data,no_match, on='iid', how='inner')\n",
    "\n",
    "cols_1s = ['iid','gender','attr1_s','sinc1_s','intel1_s','fun1_s','amb1_s','shar1_s']\n",
    "no_match_participant_look_for = no_match_participant_look_for[cols_1s]\n",
    "no_match_participant_look_for = no_match_participant_look_for.drop_duplicates(subset=['iid','gender','attr1_s','sinc1_s','intel1_s','fun1_s','amb1_s','shar1_s'],\n",
    "                                        keep='first')\n"
   ]
  },
  {
   "cell_type": "code",
   "execution_count": 46,
   "metadata": {},
   "outputs": [
    {
     "name": "stdout",
     "output_type": "stream",
     "text": [
      "Moyenne des attributs des personnes n'ayant PAS DE MATCH : 13.73\n"
     ]
    }
   ],
   "source": [
    "att_noMatch = no_match_participant_look_for.iloc[:, 2:8].mean().sort_values(ascending=False)\n",
    "print(f\"Moyenne des attributs des personnes n'ayant PAS DE MATCH : {round(att_noMatch.mean(),2)}\")"
   ]
  },
  {
   "cell_type": "code",
   "execution_count": 47,
   "metadata": {},
   "outputs": [],
   "source": [
    "# Mêmes centres d'intérets entre ceux ayant matché ou non\n",
    "\n",
    "activite = data[data.match==1]\n",
    "col2 = ['match','sports','exercise','dining','clubbing','reading','tv','theater','movies','concerts','music','shopping','yoga',\"partner's_decision\"]\n",
    "activite = activite[col2]\n",
    "activite = activite.drop_duplicates(subset=['match','sports','exercise','dining','clubbing','reading','tv','theater','movies',\n",
    "                                            'concerts','music','shopping','yoga',\"partner's_decision\"],\n",
    "                                            keep='first')"
   ]
  },
  {
   "cell_type": "code",
   "execution_count": 48,
   "metadata": {},
   "outputs": [],
   "source": [
    "activite_match = activite.iloc[:, 1:13].mean().sort_values(ascending=False)\n",
    "#activite.iloc[:, 1:13]"
   ]
  },
  {
   "cell_type": "code",
   "execution_count": 49,
   "metadata": {},
   "outputs": [
    {
     "data": {
      "text/plain": [
       "music       7.919283\n",
       "movies      7.919283\n",
       "dining      7.836323\n",
       "reading     7.697309\n",
       "concerts    6.876682\n",
       "theater     6.802691\n",
       "sports      6.522422\n",
       "exercise    6.304933\n",
       "clubbing    5.890135\n",
       "shopping    5.587444\n",
       "tv          5.271300\n",
       "yoga        4.464126\n",
       "dtype: float64"
      ]
     },
     "execution_count": 49,
     "metadata": {},
     "output_type": "execute_result"
    }
   ],
   "source": [
    "activite_match"
   ]
  },
  {
   "cell_type": "code",
   "execution_count": 50,
   "metadata": {},
   "outputs": [],
   "source": [
    "no_match_activite = pd.merge(data,no_match, on='iid', how='inner')\n",
    "\n",
    "col2 = ['match','sports','exercise','dining','clubbing','reading','tv','theater','movies','concerts','music','shopping','yoga',\"partner's_decision\"]\n",
    "no_match_activite = no_match_activite[col2]\n",
    "no_match_activite = no_match_activite.drop_duplicates(subset=['match','sports','exercise','dining','clubbing','reading','tv','theater','movies',\n",
    "                                            'concerts','music','shopping','yoga',\"partner's_decision\"],\n",
    "                                            keep='first')"
   ]
  },
  {
   "cell_type": "code",
   "execution_count": 51,
   "metadata": {},
   "outputs": [
    {
     "data": {
      "text/plain": [
       "movies      7.840000\n",
       "music       7.748571\n",
       "dining      7.548571\n",
       "reading     7.388571\n",
       "concerts    6.720000\n",
       "theater     6.577143\n",
       "exercise    6.234286\n",
       "sports      5.868571\n",
       "shopping    5.788571\n",
       "tv          5.577143\n",
       "clubbing    5.137143\n",
       "yoga        4.257143\n",
       "dtype: float64"
      ]
     },
     "execution_count": 51,
     "metadata": {},
     "output_type": "execute_result"
    }
   ],
   "source": [
    "no_match_activite.iloc[:, 1:13].mean().sort_values(ascending=False)"
   ]
  },
  {
   "cell_type": "code",
   "execution_count": null,
   "metadata": {},
   "outputs": [],
   "source": []
  },
  {
   "cell_type": "code",
   "execution_count": null,
   "metadata": {},
   "outputs": [],
   "source": []
  },
  {
   "cell_type": "code",
   "execution_count": 52,
   "metadata": {},
   "outputs": [
    {
     "name": "stdout",
     "output_type": "stream",
     "text": [
      "satisfaction des participant ayant matché: 5.5\n"
     ]
    }
   ],
   "source": [
    "match_satistisfait = data[data.match==1]\n",
    "cols =  ['satis_2',\"partner's_decision\"]\n",
    "\n",
    "match_satistisfait = match_satistisfait[cols]\n",
    "match_satistisfait = match_satistisfait.drop_duplicates(subset=['satis_2',\"partner's_decision\"],keep='first')\n",
    "print(f\"satisfaction des participant ayant matché: {match_satistisfait.satis_2.mean()}\")"
   ]
  },
  {
   "cell_type": "code",
   "execution_count": null,
   "metadata": {},
   "outputs": [],
   "source": []
  },
  {
   "cell_type": "code",
   "execution_count": 53,
   "metadata": {},
   "outputs": [
    {
     "name": "stdout",
     "output_type": "stream",
     "text": [
      "satisfaction des participants n'ayant pas matché: 4.5\n"
     ]
    }
   ],
   "source": [
    "no_match_satistisfait = pd.merge(data,no_match, on='iid', how='inner')\n",
    "cols =  ['satis_2',\"partner's_decision\"]\n",
    "no_match_satistisfait = no_match_satistisfait[cols]\n",
    "no_match_satistisfait = no_match_satistisfait.drop_duplicates(subset=['satis_2',\"partner's_decision\"],keep='first')\n",
    "\n",
    "print(f\"satisfaction des participants n'ayant pas matché: {no_match_satistisfait.satis_2.mean()}\")"
   ]
  },
  {
   "cell_type": "code",
   "execution_count": null,
   "metadata": {},
   "outputs": [],
   "source": []
  },
  {
   "cell_type": "raw",
   "metadata": {},
   "source": [
    "si la satisfaction > 5 & Moyenne des attributs >=20 : Alors match ?"
   ]
  },
  {
   "cell_type": "code",
   "execution_count": 54,
   "metadata": {},
   "outputs": [
    {
     "data": {
      "text/html": [
       "<div>\n",
       "<style scoped>\n",
       "    .dataframe tbody tr th:only-of-type {\n",
       "        vertical-align: middle;\n",
       "    }\n",
       "\n",
       "    .dataframe tbody tr th {\n",
       "        vertical-align: top;\n",
       "    }\n",
       "\n",
       "    .dataframe thead th {\n",
       "        text-align: right;\n",
       "    }\n",
       "</style>\n",
       "<table border=\"1\" class=\"dataframe\">\n",
       "  <thead>\n",
       "    <tr style=\"text-align: right;\">\n",
       "      <th></th>\n",
       "      <th>iid</th>\n",
       "      <th>id</th>\n",
       "      <th>gender</th>\n",
       "      <th>idg</th>\n",
       "      <th>Condition</th>\n",
       "      <th>wave</th>\n",
       "      <th>round</th>\n",
       "      <th>position</th>\n",
       "      <th>positin1</th>\n",
       "      <th>order</th>\n",
       "      <th>...</th>\n",
       "      <th>attr3_3</th>\n",
       "      <th>sinc3_3</th>\n",
       "      <th>intel3_3</th>\n",
       "      <th>fun3_3</th>\n",
       "      <th>amb3_3</th>\n",
       "      <th>attr5_3</th>\n",
       "      <th>sinc5_3</th>\n",
       "      <th>intel5_3</th>\n",
       "      <th>fun5_3</th>\n",
       "      <th>amb5_3</th>\n",
       "    </tr>\n",
       "  </thead>\n",
       "  <tbody>\n",
       "    <tr>\n",
       "      <th>1846</th>\n",
       "      <td>132</td>\n",
       "      <td>1.0</td>\n",
       "      <td>female</td>\n",
       "      <td>1</td>\n",
       "      <td>1</td>\n",
       "      <td>6</td>\n",
       "      <td>5</td>\n",
       "      <td>2</td>\n",
       "      <td>2.0</td>\n",
       "      <td>5</td>\n",
       "      <td>...</td>\n",
       "      <td>NaN</td>\n",
       "      <td>NaN</td>\n",
       "      <td>NaN</td>\n",
       "      <td>NaN</td>\n",
       "      <td>NaN</td>\n",
       "      <td>NaN</td>\n",
       "      <td>NaN</td>\n",
       "      <td>NaN</td>\n",
       "      <td>NaN</td>\n",
       "      <td>NaN</td>\n",
       "    </tr>\n",
       "  </tbody>\n",
       "</table>\n",
       "<p>1 rows × 195 columns</p>\n",
       "</div>"
      ],
      "text/plain": [
       "      iid   id  gender  idg  Condition  wave  round  position  positin1  \\\n",
       "1846  132  1.0  female    1          1     6      5         2       2.0   \n",
       "\n",
       "      order  ...  attr3_3  sinc3_3  intel3_3  fun3_3  amb3_3  attr5_3 sinc5_3  \\\n",
       "1846      5  ...      NaN      NaN       NaN     NaN     NaN      NaN     NaN   \n",
       "\n",
       "      intel5_3  fun5_3  amb5_3  \n",
       "1846       NaN     NaN     NaN  \n",
       "\n",
       "[1 rows x 195 columns]"
      ]
     },
     "execution_count": 54,
     "metadata": {},
     "output_type": "execute_result"
    }
   ],
   "source": [
    "Second_date = data.loc[(data['satis_2']>5) & (data['attr1_s']>=15)]\n",
    "Second_date.head(1)"
   ]
  },
  {
   "cell_type": "code",
   "execution_count": 55,
   "metadata": {},
   "outputs": [
    {
     "data": {
      "text/html": [
       "<div>\n",
       "<style scoped>\n",
       "    .dataframe tbody tr th:only-of-type {\n",
       "        vertical-align: middle;\n",
       "    }\n",
       "\n",
       "    .dataframe tbody tr th {\n",
       "        vertical-align: top;\n",
       "    }\n",
       "\n",
       "    .dataframe thead th {\n",
       "        text-align: right;\n",
       "    }\n",
       "</style>\n",
       "<table border=\"1\" class=\"dataframe\">\n",
       "  <thead>\n",
       "    <tr style=\"text-align: right;\">\n",
       "      <th></th>\n",
       "      <th>iid</th>\n",
       "      <th>id</th>\n",
       "      <th>gender</th>\n",
       "      <th>idg</th>\n",
       "      <th>Condition</th>\n",
       "      <th>wave</th>\n",
       "      <th>round</th>\n",
       "      <th>position</th>\n",
       "      <th>positin1</th>\n",
       "      <th>order</th>\n",
       "      <th>...</th>\n",
       "      <th>attr3_3</th>\n",
       "      <th>sinc3_3</th>\n",
       "      <th>intel3_3</th>\n",
       "      <th>fun3_3</th>\n",
       "      <th>amb3_3</th>\n",
       "      <th>attr5_3</th>\n",
       "      <th>sinc5_3</th>\n",
       "      <th>intel5_3</th>\n",
       "      <th>fun5_3</th>\n",
       "      <th>amb5_3</th>\n",
       "    </tr>\n",
       "  </thead>\n",
       "  <tbody>\n",
       "    <tr>\n",
       "      <th>1846</th>\n",
       "      <td>132</td>\n",
       "      <td>1.0</td>\n",
       "      <td>female</td>\n",
       "      <td>1</td>\n",
       "      <td>1</td>\n",
       "      <td>6</td>\n",
       "      <td>5</td>\n",
       "      <td>2</td>\n",
       "      <td>2.0</td>\n",
       "      <td>5</td>\n",
       "      <td>...</td>\n",
       "      <td>NaN</td>\n",
       "      <td>NaN</td>\n",
       "      <td>NaN</td>\n",
       "      <td>NaN</td>\n",
       "      <td>NaN</td>\n",
       "      <td>NaN</td>\n",
       "      <td>NaN</td>\n",
       "      <td>NaN</td>\n",
       "      <td>NaN</td>\n",
       "      <td>NaN</td>\n",
       "    </tr>\n",
       "    <tr>\n",
       "      <th>1861</th>\n",
       "      <td>135</td>\n",
       "      <td>5.0</td>\n",
       "      <td>female</td>\n",
       "      <td>7</td>\n",
       "      <td>1</td>\n",
       "      <td>6</td>\n",
       "      <td>5</td>\n",
       "      <td>1</td>\n",
       "      <td>1.0</td>\n",
       "      <td>4</td>\n",
       "      <td>...</td>\n",
       "      <td>8.0</td>\n",
       "      <td>9.0</td>\n",
       "      <td>9.0</td>\n",
       "      <td>7.0</td>\n",
       "      <td>5.0</td>\n",
       "      <td>NaN</td>\n",
       "      <td>NaN</td>\n",
       "      <td>NaN</td>\n",
       "      <td>NaN</td>\n",
       "      <td>NaN</td>\n",
       "    </tr>\n",
       "    <tr>\n",
       "      <th>1881</th>\n",
       "      <td>139</td>\n",
       "      <td>4.0</td>\n",
       "      <td>male</td>\n",
       "      <td>6</td>\n",
       "      <td>1</td>\n",
       "      <td>6</td>\n",
       "      <td>5</td>\n",
       "      <td>2</td>\n",
       "      <td>5.0</td>\n",
       "      <td>3</td>\n",
       "      <td>...</td>\n",
       "      <td>8.0</td>\n",
       "      <td>8.0</td>\n",
       "      <td>8.0</td>\n",
       "      <td>8.0</td>\n",
       "      <td>5.0</td>\n",
       "      <td>NaN</td>\n",
       "      <td>NaN</td>\n",
       "      <td>NaN</td>\n",
       "      <td>NaN</td>\n",
       "      <td>NaN</td>\n",
       "    </tr>\n",
       "    <tr>\n",
       "      <th>1886</th>\n",
       "      <td>140</td>\n",
       "      <td>6.0</td>\n",
       "      <td>male</td>\n",
       "      <td>9</td>\n",
       "      <td>1</td>\n",
       "      <td>6</td>\n",
       "      <td>5</td>\n",
       "      <td>2</td>\n",
       "      <td>4.0</td>\n",
       "      <td>4</td>\n",
       "      <td>...</td>\n",
       "      <td>NaN</td>\n",
       "      <td>NaN</td>\n",
       "      <td>NaN</td>\n",
       "      <td>NaN</td>\n",
       "      <td>NaN</td>\n",
       "      <td>NaN</td>\n",
       "      <td>NaN</td>\n",
       "      <td>NaN</td>\n",
       "      <td>NaN</td>\n",
       "      <td>NaN</td>\n",
       "    </tr>\n",
       "    <tr>\n",
       "      <th>2152</th>\n",
       "      <td>158</td>\n",
       "      <td>1.0</td>\n",
       "      <td>male</td>\n",
       "      <td>2</td>\n",
       "      <td>2</td>\n",
       "      <td>7</td>\n",
       "      <td>16</td>\n",
       "      <td>9</td>\n",
       "      <td>9.0</td>\n",
       "      <td>1</td>\n",
       "      <td>...</td>\n",
       "      <td>7.0</td>\n",
       "      <td>8.0</td>\n",
       "      <td>9.0</td>\n",
       "      <td>8.0</td>\n",
       "      <td>7.0</td>\n",
       "      <td>NaN</td>\n",
       "      <td>NaN</td>\n",
       "      <td>NaN</td>\n",
       "      <td>NaN</td>\n",
       "      <td>NaN</td>\n",
       "    </tr>\n",
       "    <tr>\n",
       "      <th>...</th>\n",
       "      <td>...</td>\n",
       "      <td>...</td>\n",
       "      <td>...</td>\n",
       "      <td>...</td>\n",
       "      <td>...</td>\n",
       "      <td>...</td>\n",
       "      <td>...</td>\n",
       "      <td>...</td>\n",
       "      <td>...</td>\n",
       "      <td>...</td>\n",
       "      <td>...</td>\n",
       "      <td>...</td>\n",
       "      <td>...</td>\n",
       "      <td>...</td>\n",
       "      <td>...</td>\n",
       "      <td>...</td>\n",
       "      <td>...</td>\n",
       "      <td>...</td>\n",
       "      <td>...</td>\n",
       "      <td>...</td>\n",
       "      <td>...</td>\n",
       "    </tr>\n",
       "    <tr>\n",
       "      <th>6744</th>\n",
       "      <td>448</td>\n",
       "      <td>9.0</td>\n",
       "      <td>male</td>\n",
       "      <td>18</td>\n",
       "      <td>2</td>\n",
       "      <td>17</td>\n",
       "      <td>11</td>\n",
       "      <td>8</td>\n",
       "      <td>7.0</td>\n",
       "      <td>2</td>\n",
       "      <td>...</td>\n",
       "      <td>9.0</td>\n",
       "      <td>9.0</td>\n",
       "      <td>10.0</td>\n",
       "      <td>9.0</td>\n",
       "      <td>10.0</td>\n",
       "      <td>8.0</td>\n",
       "      <td>8.0</td>\n",
       "      <td>9.0</td>\n",
       "      <td>9.0</td>\n",
       "      <td>9.0</td>\n",
       "    </tr>\n",
       "    <tr>\n",
       "      <th>6754</th>\n",
       "      <td>449</td>\n",
       "      <td>10.0</td>\n",
       "      <td>male</td>\n",
       "      <td>20</td>\n",
       "      <td>2</td>\n",
       "      <td>17</td>\n",
       "      <td>11</td>\n",
       "      <td>8</td>\n",
       "      <td>8.0</td>\n",
       "      <td>1</td>\n",
       "      <td>...</td>\n",
       "      <td>NaN</td>\n",
       "      <td>NaN</td>\n",
       "      <td>NaN</td>\n",
       "      <td>NaN</td>\n",
       "      <td>NaN</td>\n",
       "      <td>NaN</td>\n",
       "      <td>NaN</td>\n",
       "      <td>NaN</td>\n",
       "      <td>NaN</td>\n",
       "      <td>NaN</td>\n",
       "    </tr>\n",
       "    <tr>\n",
       "      <th>6764</th>\n",
       "      <td>450</td>\n",
       "      <td>11.0</td>\n",
       "      <td>male</td>\n",
       "      <td>21</td>\n",
       "      <td>2</td>\n",
       "      <td>17</td>\n",
       "      <td>11</td>\n",
       "      <td>8</td>\n",
       "      <td>2.0</td>\n",
       "      <td>6</td>\n",
       "      <td>...</td>\n",
       "      <td>7.0</td>\n",
       "      <td>7.0</td>\n",
       "      <td>9.0</td>\n",
       "      <td>7.0</td>\n",
       "      <td>9.0</td>\n",
       "      <td>7.0</td>\n",
       "      <td>7.0</td>\n",
       "      <td>9.0</td>\n",
       "      <td>7.0</td>\n",
       "      <td>7.0</td>\n",
       "    </tr>\n",
       "    <tr>\n",
       "      <th>6774</th>\n",
       "      <td>451</td>\n",
       "      <td>12.0</td>\n",
       "      <td>male</td>\n",
       "      <td>22</td>\n",
       "      <td>2</td>\n",
       "      <td>17</td>\n",
       "      <td>11</td>\n",
       "      <td>8</td>\n",
       "      <td>13.0</td>\n",
       "      <td>7</td>\n",
       "      <td>...</td>\n",
       "      <td>NaN</td>\n",
       "      <td>NaN</td>\n",
       "      <td>NaN</td>\n",
       "      <td>NaN</td>\n",
       "      <td>NaN</td>\n",
       "      <td>NaN</td>\n",
       "      <td>NaN</td>\n",
       "      <td>NaN</td>\n",
       "      <td>NaN</td>\n",
       "      <td>NaN</td>\n",
       "    </tr>\n",
       "    <tr>\n",
       "      <th>6784</th>\n",
       "      <td>452</td>\n",
       "      <td>13.0</td>\n",
       "      <td>male</td>\n",
       "      <td>23</td>\n",
       "      <td>2</td>\n",
       "      <td>17</td>\n",
       "      <td>11</td>\n",
       "      <td>8</td>\n",
       "      <td>9.0</td>\n",
       "      <td>10</td>\n",
       "      <td>...</td>\n",
       "      <td>NaN</td>\n",
       "      <td>NaN</td>\n",
       "      <td>NaN</td>\n",
       "      <td>NaN</td>\n",
       "      <td>NaN</td>\n",
       "      <td>NaN</td>\n",
       "      <td>NaN</td>\n",
       "      <td>NaN</td>\n",
       "      <td>NaN</td>\n",
       "      <td>NaN</td>\n",
       "    </tr>\n",
       "  </tbody>\n",
       "</table>\n",
       "<p>105 rows × 195 columns</p>\n",
       "</div>"
      ],
      "text/plain": [
       "      iid    id  gender  idg  Condition  wave  round  position  positin1  \\\n",
       "1846  132   1.0  female    1          1     6      5         2       2.0   \n",
       "1861  135   5.0  female    7          1     6      5         1       1.0   \n",
       "1881  139   4.0    male    6          1     6      5         2       5.0   \n",
       "1886  140   6.0    male    9          1     6      5         2       4.0   \n",
       "2152  158   1.0    male    2          2     7     16         9       9.0   \n",
       "...   ...   ...     ...  ...        ...   ...    ...       ...       ...   \n",
       "6744  448   9.0    male   18          2    17     11         8       7.0   \n",
       "6754  449  10.0    male   20          2    17     11         8       8.0   \n",
       "6764  450  11.0    male   21          2    17     11         8       2.0   \n",
       "6774  451  12.0    male   22          2    17     11         8      13.0   \n",
       "6784  452  13.0    male   23          2    17     11         8       9.0   \n",
       "\n",
       "      order  ...  attr3_3  sinc3_3  intel3_3  fun3_3  amb3_3  attr5_3 sinc5_3  \\\n",
       "1846      5  ...      NaN      NaN       NaN     NaN     NaN      NaN     NaN   \n",
       "1861      4  ...      8.0      9.0       9.0     7.0     5.0      NaN     NaN   \n",
       "1881      3  ...      8.0      8.0       8.0     8.0     5.0      NaN     NaN   \n",
       "1886      4  ...      NaN      NaN       NaN     NaN     NaN      NaN     NaN   \n",
       "2152      1  ...      7.0      8.0       9.0     8.0     7.0      NaN     NaN   \n",
       "...     ...  ...      ...      ...       ...     ...     ...      ...     ...   \n",
       "6744      2  ...      9.0      9.0      10.0     9.0    10.0      8.0     8.0   \n",
       "6754      1  ...      NaN      NaN       NaN     NaN     NaN      NaN     NaN   \n",
       "6764      6  ...      7.0      7.0       9.0     7.0     9.0      7.0     7.0   \n",
       "6774      7  ...      NaN      NaN       NaN     NaN     NaN      NaN     NaN   \n",
       "6784     10  ...      NaN      NaN       NaN     NaN     NaN      NaN     NaN   \n",
       "\n",
       "      intel5_3  fun5_3  amb5_3  \n",
       "1846       NaN     NaN     NaN  \n",
       "1861       NaN     NaN     NaN  \n",
       "1881       NaN     NaN     NaN  \n",
       "1886       NaN     NaN     NaN  \n",
       "2152       NaN     NaN     NaN  \n",
       "...        ...     ...     ...  \n",
       "6744       9.0     9.0     9.0  \n",
       "6754       NaN     NaN     NaN  \n",
       "6764       9.0     7.0     7.0  \n",
       "6774       NaN     NaN     NaN  \n",
       "6784       NaN     NaN     NaN  \n",
       "\n",
       "[105 rows x 195 columns]"
      ]
     },
     "execution_count": 55,
     "metadata": {},
     "output_type": "execute_result"
    }
   ],
   "source": [
    "Second_date = Second_date.drop_duplicates(subset=['wave','iid'],keep='first')\n",
    "Second_date"
   ]
  },
  {
   "cell_type": "code",
   "execution_count": null,
   "metadata": {},
   "outputs": [],
   "source": []
  },
  {
   "cell_type": "code",
   "execution_count": null,
   "metadata": {},
   "outputs": [],
   "source": []
  },
  {
   "cell_type": "code",
   "execution_count": null,
   "metadata": {},
   "outputs": [],
   "source": []
  },
  {
   "cell_type": "code",
   "execution_count": null,
   "metadata": {},
   "outputs": [],
   "source": []
  },
  {
   "cell_type": "code",
   "execution_count": null,
   "metadata": {},
   "outputs": [],
   "source": []
  },
  {
   "cell_type": "code",
   "execution_count": 56,
   "metadata": {},
   "outputs": [],
   "source": [
    "#col1 = ['match','satis_2',\"partner's_decision\"]\n",
    "#iid1[col1] \n",
    "\n",
    "#partner's_decision  partner_rating_of_attributes\n"
   ]
  },
  {
   "cell_type": "code",
   "execution_count": null,
   "metadata": {},
   "outputs": [],
   "source": []
  },
  {
   "cell_type": "code",
   "execution_count": null,
   "metadata": {},
   "outputs": [],
   "source": []
  },
  {
   "cell_type": "code",
   "execution_count": null,
   "metadata": {},
   "outputs": [],
   "source": []
  },
  {
   "cell_type": "code",
   "execution_count": null,
   "metadata": {},
   "outputs": [],
   "source": []
  },
  {
   "cell_type": "code",
   "execution_count": null,
   "metadata": {},
   "outputs": [],
   "source": []
  },
  {
   "cell_type": "code",
   "execution_count": null,
   "metadata": {},
   "outputs": [],
   "source": []
  },
  {
   "cell_type": "code",
   "execution_count": null,
   "metadata": {},
   "outputs": [],
   "source": []
  },
  {
   "cell_type": "code",
   "execution_count": null,
   "metadata": {},
   "outputs": [],
   "source": []
  }
 ],
 "metadata": {
  "kernelspec": {
   "display_name": "Python 3",
   "language": "python",
   "name": "python3"
  },
  "language_info": {
   "codemirror_mode": {
    "name": "ipython",
    "version": 3
   },
   "file_extension": ".py",
   "mimetype": "text/x-python",
   "name": "python",
   "nbconvert_exporter": "python",
   "pygments_lexer": "ipython3",
   "version": "3.8.5"
  }
 },
 "nbformat": 4,
 "nbformat_minor": 2
}
