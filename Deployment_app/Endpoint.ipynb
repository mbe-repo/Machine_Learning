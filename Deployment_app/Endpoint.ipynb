{
 "cells": [
  {
   "cell_type": "code",
   "execution_count": 1,
   "metadata": {},
   "outputs": [],
   "source": [
    "import requests\n"
   ]
  },
  {
   "cell_type": "code",
   "execution_count": 2,
   "metadata": {},
   "outputs": [],
   "source": [
    "#  lancer sur Visual Studio localhost - python app.py \n",
    "response_quality = requests.post(\"http://127.0.0.1:5000/predict\",\n",
    "                                 json={\"input\": [7.0, 0.27, 0.36, 20.7, 0.045, 45.0, 170.0, 1.001, 3.0, 0.45, 8.8]})\n",
    "\n"
   ]
  },
  {
   "cell_type": "code",
   "execution_count": 3,
   "metadata": {},
   "outputs": [
    {
     "name": "stdout",
     "output_type": "stream",
     "text": [
      "<Response [200]>\n",
      "-----\n",
      "prédiction du vin selon l'input\n"
     ]
    },
    {
     "data": {
      "text/plain": [
       "{'predict': '6'}"
      ]
     },
     "execution_count": 3,
     "metadata": {},
     "output_type": "execute_result"
    }
   ],
   "source": [
    "print(response_quality)\n",
    "\n",
    "print('-----') \n",
    "print(\"prédiction du vin selon l'input\")\n",
    "response_quality.json()\n",
    "      "
   ]
  },
  {
   "cell_type": "code",
   "execution_count": null,
   "metadata": {},
   "outputs": [],
   "source": []
  },
  {
   "cell_type": "code",
   "execution_count": 4,
   "metadata": {},
   "outputs": [
    {
     "name": "stdout",
     "output_type": "stream",
     "text": [
      "Test prédiction de la qualité du vin en production sur l'application : https://flask-app-wine.herokuapp.com/\n"
     ]
    },
    {
     "data": {
      "text/plain": [
       "{'predict': '9'}"
      ]
     },
     "execution_count": 4,
     "metadata": {},
     "output_type": "execute_result"
    }
   ],
   "source": [
    "# En production\n",
    "\n",
    "print(\"Test prédiction de la qualité du vin en production sur l'application : https://flask-app-wine.herokuapp.com/\")\n",
    "response_production = requests.post(\"https://flask-app-wine.herokuapp.com/predict\",\n",
    "            json={\"input\": [9.1,0.27,0.45,10.6,0.035,28.0,124.0,0.99700,3.20,0.46,10.4]})\n",
    "\n",
    "\n",
    "response_production.json()"
   ]
  }
 ],
 "metadata": {
  "kernelspec": {
   "display_name": "Python 3",
   "language": "python",
   "name": "python3"
  },
  "language_info": {
   "codemirror_mode": {
    "name": "ipython",
    "version": 3
   },
   "file_extension": ".py",
   "mimetype": "text/x-python",
   "name": "python",
   "nbconvert_exporter": "python",
   "pygments_lexer": "ipython3",
   "version": "3.8.5"
  }
 },
 "nbformat": 4,
 "nbformat_minor": 4
}
