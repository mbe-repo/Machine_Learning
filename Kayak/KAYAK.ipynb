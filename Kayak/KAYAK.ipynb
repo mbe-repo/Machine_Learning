{
 "cells": [
  {
   "cell_type": "code",
   "execution_count": null,
   "metadata": {},
   "outputs": [],
   "source": [
    "import requests\n",
    "from bs4 import BeautifulSoup as soup\n",
    "import pandas as pd\n",
    "from pandas.io.json import json_normalize\n",
    "import scipy\n",
    "import matplotlib.pyplot as plt\n",
    "import seaborn as sns\n",
    "import plotly.express as px \n",
    "import plotly.io as pio\n",
    "pio.renderers.default = 'plotly_mimetype+notebook'"
   ]
  },
  {
   "cell_type": "code",
   "execution_count": null,
   "metadata": {},
   "outputs": [],
   "source": [
    "hotel = []\n",
    "price = []\n",
    "review = []\n",
    "appreciation = []\n",
    "adresse = []\n",
    "experience = []"
   ]
  },
  {
   "cell_type": "code",
   "execution_count": null,
   "metadata": {},
   "outputs": [],
   "source": [
    "page = 0\n",
    "for i in range(1,10):\n",
    "    headers = {'User-Agent':'Mozilla/5.0 (Macintosh; Intel Mac OS X 10_11_2) AppleWebKit/601.3.9 (KHTML, like Gecko) Version/9.0.2 Safari/601.3.9'}\n",
    "    html = 'https://www.booking.com/searchresults.fr.html?label=gen173nr-1DCAQoggJCDXNlYXJjaF9mcmFuY2VIDVgEaE2IAQGYAQ24AQfIAQzYAQPoAQH4AQOIAgGoAgO4AoO0-IkGwAIB0gIkMGI5Y2FkZjctYzYzNC00NGE5LWFiMDgtNWM0YmU5N2Y1MTJj2AIE4AIB&tmpl=searchresults&checkin_month=10&checkin_monthday=5&checkin_year=2022&checkout_month=03&checkout_monthday=10&checkout_year=2022&class_interval=1&dest_id=73&dest_type=country&dtdisc=0&from_sf=2&group_adults=2&group_children=0&inac=0&index_postcard=0&label_click=undef&no_rooms=1&postcard=0&raw_dest_type=country&room1=A%2CA&sb_price_type=total&shw_aparth=1&slp_r_match=0&src=searchresults&src_elem=sb&srpvid=5c796de6e7f4017e&ss=France&ss_all=0&ssb=empty&sshis=0&ssne=France&ssne_untouched=France&top_ufis=1&rows=25&offset={page}'\n",
    "    page += 25\n",
    "    response = requests.get(html,headers=headers)\n",
    "    bsobj = soup(response.content, 'lxml')\n",
    "    \n",
    "    for name in bsobj.findAll('span',{'class':'sr-hotel__name'}):\n",
    "        hotel.append(name.text.strip())\n",
    "\n",
    "    for name in bsobj.findAll('span',{'class':'bui-u-sr-only'}):\n",
    "        price.append(name.text.strip())\n",
    "\n",
    "\n",
    "    for name in bsobj.findAll('div',{'class':'bui-review-score__badge'}):\n",
    "        review.append(name.text.strip())\n",
    "\n",
    "\n",
    "    for name in bsobj.findAll('div',{'class':'bui-review-score__title'}):\n",
    "        appreciation.append(name.text.strip())\n",
    "\n",
    "\n",
    "    for name in bsobj.findAll('div',{'class':'sr_card_address_line'}):\n",
    "        adresse.append(name.text.strip())\n",
    "\n",
    "    for name in bsobj.findAll('div',{'class':'bui-review-score__text'}):\n",
    "        experience.append(name.text.strip())"
   ]
  },
  {
   "cell_type": "code",
   "execution_count": null,
   "metadata": {},
   "outputs": [],
   "source": [
    "df_scrap_booking = pd.DataFrame(list(zip(hotel ,price, adresse, appreciation,review,experience)),\n",
    "              columns=['name_hotel','price','adress_hotel', 'appreciation_hotel', 'review_hotel','nb_exp_vecu_hotel'])\n"
   ]
  },
  {
   "cell_type": "code",
   "execution_count": null,
   "metadata": {},
   "outputs": [],
   "source": [
    "df_scrap_booking = pd.read_csv('Booking_sauv.csv')\n",
    "del df_scrap_booking['Unnamed: 0']"
   ]
  },
  {
   "cell_type": "code",
   "execution_count": null,
   "metadata": {},
   "outputs": [],
   "source": [
    "df_scrap_booking.adress_hotel = [col.replace(\"\\nIndiquer sur la carte\", \"\") for col in df_scrap_booking.adress_hotel]\n",
    "df_scrap_booking.adress_hotel = [col.replace(\"\\n\\n\", \"\") for col in df_scrap_booking.adress_hotel]\n",
    "df_scrap_booking.adress_hotel = [col.replace(\"Proche du métro\", \"\") for col in df_scrap_booking.adress_hotel]\n"
   ]
  },
  {
   "cell_type": "code",
   "execution_count": null,
   "metadata": {},
   "outputs": [],
   "source": [
    "res = pd.DataFrame(df_scrap_booking.adress_hotel.str.split(\",\",1).tolist(),columns = [\"indic\",\"ville\"])\n",
    "\n",
    "res['ville']= res['ville'].fillna(res['indic'])\n",
    "df_scrap_booking = pd.concat([df_scrap_booking, res], axis=1)\n",
    "\n",
    "df_scrap_booking['ville'] = df_scrap_booking['ville'].str.strip()\n",
    "\n",
    "df_scrap_booking['review_hotel'] = df_scrap_booking['review_hotel'].replace(',','.', regex=True).astype(float)"
   ]
  },
  {
   "cell_type": "markdown",
   "metadata": {},
   "source": [
    "#### 1 - API météo Booking avec openweathermap"
   ]
  },
  {
   "cell_type": "code",
   "execution_count": null,
   "metadata": {},
   "outputs": [],
   "source": [
    "df_meteo = pd.DataFrame(columns=['weather', 'base', 'visibility', 'dt', 'timezone', 'id', 'name', 'cod',\n",
    "       'coord.lon', 'coord.lat', 'main.temp', 'main.feels_like',\n",
    "       'main.temp_min', 'main.temp_max', 'main.pressure', 'main.humidity',\n",
    "       'wind.speed', 'wind.deg', 'clouds.all', 'sys.type', 'sys.id',\n",
    "       'sys.country', 'sys.sunrise', 'sys.sunset'])"
   ]
  },
  {
   "cell_type": "code",
   "execution_count": null,
   "metadata": {},
   "outputs": [],
   "source": [
    "villes = [\"Mont Saint Michel\",\"St Malo\",\"Bayeux\",\"Le Havre\",\"Rouen\",\"Paris\",\"Amiens\",\"Lille\",\"Strasbourg\",\"Chateau du Haut Koenigsbourg\",\"Colmar\",\n",
    "\"Eguisheim\",\"Besancon\",\"Dijon\",\"Annecy\",\"Grenoble\",\"Lyon\",\"Gorges du Verdon\",\"Bormes les Mimosas\",\"Cassis\",\"Marseille\",\n",
    "\"Aix en Provence\",\"Avignon\",\"Uzes\",\"Nimes\",\"Aigues Mortes\",\"Saintes Maries de la mer\",\"Collioure\",\"Carcassonne\",\"Ariege\",\n",
    "\"Toulouse\",\"Montauban\",\"Biarritz\",\"Bayonne\",\n",
    "\"La Rochelle\",'Chatou','Saint-Brice-en-Coglès','Saint-Raphaël','Kingersheim','Montargis','La Chapelle-de-Guinchay','Étampes','Bazoges-en-Paillers']"
   ]
  },
  {
   "cell_type": "code",
   "execution_count": null,
   "metadata": {},
   "outputs": [],
   "source": [
    "for v in villes:\n",
    "    # API \n",
    "    API_URL = \"https://api.openweathermap.org/data/2.5/weather?\"\n",
    "    # API key\n",
    "    API_KEY = \"\"\n",
    "    # City \n",
    "    CITY = v\n",
    "    # updating the URL\n",
    "    URL = API_URL + \"q=\" + CITY + \"&appid=\" + API_KEY\n",
    "    # Sending HTTP request\n",
    "    response = requests.get(URL)\n",
    "    ville_meteo = response.json()\n",
    "    df_ville = pd.DataFrame.from_dict(json_normalize(ville_meteo), orient='columns')\n",
    "    #result = pd.concat([df_meteo, df_ville], axis=1, join='inner')\n",
    "    df_meteo = df_meteo.append(other=df_ville)\n",
    "    \n"
   ]
  },
  {
   "cell_type": "code",
   "execution_count": null,
   "metadata": {},
   "outputs": [],
   "source": [
    "\n",
    "cols = ['name','coord.lon','coord.lat','main.temp','main.humidity']\n",
    "df_meteo = df_meteo[cols]\n",
    "df_meteo = df_meteo[cols].dropna()\n",
    "\n",
    "\n",
    "df_meteo['main.temp'] = df_meteo['main.temp']-273.15\n",
    "\n",
    "df_meteo.name = [col.replace(\"Arrondissement de \", \"\") for col in df_meteo.name]\n",
    "df_meteo.name = [col.replace(\"Arrondissement d'\", \"\") for col in df_meteo.name]"
   ]
  },
  {
   "cell_type": "code",
   "execution_count": null,
   "metadata": {},
   "outputs": [],
   "source": [
    "df_meteo.rename(columns={'name':'ville', 'coord.lon': 'longitude', 'coord.lat':'latitude', 'main.temp':'temperature', 'main.humidity':'tx_humidite'}, inplace=True)"
   ]
  },
  {
   "cell_type": "code",
   "execution_count": null,
   "metadata": {},
   "outputs": [],
   "source": [
    "df_scrap_booking = pd.merge(df_scrap_booking , df_meteo, on='ville')"
   ]
  },
  {
   "cell_type": "markdown",
   "metadata": {},
   "source": [
    "#### Top 5 des meilleurs destinations : note moyenne"
   ]
  },
  {
   "cell_type": "code",
   "execution_count": null,
   "metadata": {},
   "outputs": [],
   "source": [
    "top5 = df_scrap_booking.groupby(['ville', 'latitude','longitude'])['review_hotel'].mean().sort_values(ascending=False)\n",
    "\n",
    "top5.columns = ['review_mean']\n",
    "top5 = top5.reset_index()\n",
    "top5 = top5.iloc[0:5,1:5]"
   ]
  },
  {
   "cell_type": "code",
   "execution_count": null,
   "metadata": {},
   "outputs": [],
   "source": [
    "import plotly.graph_objects as go\n",
    "\n",
    "fig = px.scatter_mapbox(top5, lat=\"latitude\", lon=\"longitude\",                       \n",
    "                        size_max=10, zoom=4, height=500, mapbox_style=\"carto-positron\", color='review_hotel',\n",
    "                        size=\"latitude\",\n",
    "                        title=\"TOP 5 des meilleurs destinations\")\n",
    "\n",
    "\n",
    "\n",
    "fig.show()"
   ]
  },
  {
   "cell_type": "code",
   "execution_count": null,
   "metadata": {},
   "outputs": [],
   "source": [
    "top5_ville = df_scrap_booking.groupby(['latitude','ville'])['review_hotel'].mean().sort_values(ascending=False)\n",
    "top5_ville = top5_ville.reset_index()\n",
    "top5_ville = top5_ville.iloc[0:5,1:5]\n",
    "\n",
    "print(top5_ville.ville)"
   ]
  },
  {
   "cell_type": "markdown",
   "metadata": {},
   "source": [
    "#### Top-20 des hôtels "
   ]
  },
  {
   "cell_type": "code",
   "execution_count": null,
   "metadata": {},
   "outputs": [],
   "source": [
    "df_scrap_booking = df_scrap_booking.sort_values(by=['review_hotel'], ascending=False)\n",
    "\n",
    "top_20 = df_scrap_booking.iloc[0:19,:]"
   ]
  },
  {
   "cell_type": "code",
   "execution_count": null,
   "metadata": {},
   "outputs": [],
   "source": [
    "fig = px.scatter_mapbox(top_20, lat=\"latitude\", lon=\"longitude\",                       \n",
    "                        size_max=10, zoom=4, height=600, mapbox_style=\"carto-positron\", color='review_hotel',\n",
    "                        size=\"latitude\",\n",
    "                        title=\"TOP 20 des meilleurs Hôtels\")\n",
    " \n",
    "\n",
    "\n",
    "fig.show()"
   ]
  },
  {
   "cell_type": "code",
   "execution_count": null,
   "metadata": {},
   "outputs": [],
   "source": [
    "\n",
    "top_20 = df_scrap_booking.iloc[0:19,:]\n",
    "\n",
    "top_20[['name_hotel','ville','appreciation_hotel','review_hotel']]"
   ]
  }
 ],
 "metadata": {
  "kernelspec": {
   "display_name": "Python 3",
   "language": "python",
   "name": "python3"
  },
  "language_info": {
   "codemirror_mode": {
    "name": "ipython",
    "version": 3
   },
   "file_extension": ".py",
   "mimetype": "text/x-python",
   "name": "python",
   "nbconvert_exporter": "python",
   "pygments_lexer": "ipython3",
   "version": "3.8.5"
  }
 },
 "nbformat": 4,
 "nbformat_minor": 4
}
