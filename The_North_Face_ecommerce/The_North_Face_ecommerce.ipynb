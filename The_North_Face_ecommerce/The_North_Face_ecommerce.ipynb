{
 "cells": [
  {
   "cell_type": "markdown",
   "metadata": {},
   "source": [
    "## Goals 🎯\n",
    "\n",
    "The project can be cut into three steps :\n",
    "\n",
    "1. Identify groups of products that have similar descriptions.\n",
    "\n",
    "2. Use the groups of similar products to build a simple recommender system algorithm.\n",
    "\n",
    "3. Use topic modeling algorithms to automatically assess the latent topics present in the item descriptions."
   ]
  },
  {
   "cell_type": "code",
   "execution_count": 1,
   "metadata": {},
   "outputs": [],
   "source": [
    "import pandas as pd\n",
    "import numpy as np\n",
    "import spacy\n",
    "\n",
    "from spacy.lang.en.stop_words import STOP_WORDS\n",
    "from sklearn.decomposition import TruncatedSVD\n",
    "from sklearn.feature_extraction.text import TfidfVectorizer\n",
    "from sklearn.cluster import DBSCAN\n",
    "from sklearn.decomposition import TruncatedSVD\n",
    "\n",
    "import matplotlib.pyplot as plt\n",
    "import wordcloud\n",
    "\n",
    "nlp = spacy.load(\"en_core_web_sm\")"
   ]
  },
  {
   "cell_type": "code",
   "execution_count": 2,
   "metadata": {},
   "outputs": [
    {
     "data": {
      "text/html": [
       "<div>\n",
       "<style scoped>\n",
       "    .dataframe tbody tr th:only-of-type {\n",
       "        vertical-align: middle;\n",
       "    }\n",
       "\n",
       "    .dataframe tbody tr th {\n",
       "        vertical-align: top;\n",
       "    }\n",
       "\n",
       "    .dataframe thead th {\n",
       "        text-align: right;\n",
       "    }\n",
       "</style>\n",
       "<table border=\"1\" class=\"dataframe\">\n",
       "  <thead>\n",
       "    <tr style=\"text-align: right;\">\n",
       "      <th></th>\n",
       "      <th>id</th>\n",
       "      <th>description</th>\n",
       "    </tr>\n",
       "  </thead>\n",
       "  <tbody>\n",
       "    <tr>\n",
       "      <th>0</th>\n",
       "      <td>1</td>\n",
       "      <td>Active classic boxers - There's a reason why o...</td>\n",
       "    </tr>\n",
       "    <tr>\n",
       "      <th>1</th>\n",
       "      <td>2</td>\n",
       "      <td>Active sport boxer briefs - Skinning up Glory ...</td>\n",
       "    </tr>\n",
       "    <tr>\n",
       "      <th>2</th>\n",
       "      <td>3</td>\n",
       "      <td>Active sport briefs - These superbreathable no...</td>\n",
       "    </tr>\n",
       "    <tr>\n",
       "      <th>3</th>\n",
       "      <td>4</td>\n",
       "      <td>Alpine guide pants - Skin in, climb ice, switc...</td>\n",
       "    </tr>\n",
       "    <tr>\n",
       "      <th>4</th>\n",
       "      <td>5</td>\n",
       "      <td>Alpine wind jkt - On high ridges, steep ice an...</td>\n",
       "    </tr>\n",
       "  </tbody>\n",
       "</table>\n",
       "</div>"
      ],
      "text/plain": [
       "   id                                        description\n",
       "0   1  Active classic boxers - There's a reason why o...\n",
       "1   2  Active sport boxer briefs - Skinning up Glory ...\n",
       "2   3  Active sport briefs - These superbreathable no...\n",
       "3   4  Alpine guide pants - Skin in, climb ice, switc...\n",
       "4   5  Alpine wind jkt - On high ridges, steep ice an..."
      ]
     },
     "execution_count": 2,
     "metadata": {},
     "output_type": "execute_result"
    }
   ],
   "source": [
    "data = pd.read_csv(\"src/North_face_data.csv\")\n",
    "data.head()"
   ]
  },
  {
   "cell_type": "code",
   "execution_count": 3,
   "metadata": {},
   "outputs": [
    {
     "data": {
      "text/plain": [
       "(500, 2)"
      ]
     },
     "execution_count": 3,
     "metadata": {},
     "output_type": "execute_result"
    }
   ],
   "source": [
    "data.shape"
   ]
  },
  {
   "cell_type": "code",
   "execution_count": 4,
   "metadata": {},
   "outputs": [
    {
     "name": "stdout",
     "output_type": "stream",
     "text": [
      "Description du 1er produit :  Active classic boxers - There's a reason why our boxers are a cult favorite - they keep their cool, especially in sticky situations. The quick-drying, lightweight underwear takes up minimal space in a travel pack. An exposed, brushed waistband offers next-to-skin softness, five-panel construction with a traditional boxer back for a classic fit, and a functional fly. Made of 3.7-oz 100% recycled polyester with moisture-wicking performance. Inseam (size M) is 4 1/2\". Recyclable through the Common Threads Recycling Program.<br><br><b>Details:</b><ul> <li>\"Silky Capilene 1 fabric is ultralight, breathable and quick-to-dry\"</li> <li>\"Exposed, brushed elastic waistband for comfort\"</li> <li>5-panel construction with traditional boxer back</li> <li>\"Inseam (size M) is 4 1/2\"\"\"</li></ul><br><br><b>Fabric: </b>3.7-oz 100% all-recycled polyester with Gladiodor natural odor control for the garment. Recyclable through the Common Threads Recycling Program<br><br><b>Weight: </b>99 g (3.5 oz)<br><br>Made in Mexico.\n"
     ]
    }
   ],
   "source": [
    "print('Description du 1er produit : ',data.loc[0,'description'])"
   ]
  },
  {
   "cell_type": "markdown",
   "metadata": {},
   "source": [
    "### Preprocessing of textual data"
   ]
  },
  {
   "cell_type": "code",
   "execution_count": 5,
   "metadata": {},
   "outputs": [
    {
     "data": {
      "text/html": [
       "<div>\n",
       "<style scoped>\n",
       "    .dataframe tbody tr th:only-of-type {\n",
       "        vertical-align: middle;\n",
       "    }\n",
       "\n",
       "    .dataframe tbody tr th {\n",
       "        vertical-align: top;\n",
       "    }\n",
       "\n",
       "    .dataframe thead th {\n",
       "        text-align: right;\n",
       "    }\n",
       "</style>\n",
       "<table border=\"1\" class=\"dataframe\">\n",
       "  <thead>\n",
       "    <tr style=\"text-align: right;\">\n",
       "      <th></th>\n",
       "      <th>id</th>\n",
       "      <th>description</th>\n",
       "      <th>clean_documents</th>\n",
       "    </tr>\n",
       "  </thead>\n",
       "  <tbody>\n",
       "    <tr>\n",
       "      <th>0</th>\n",
       "      <td>1</td>\n",
       "      <td>Active classic boxers - There's a reason why o...</td>\n",
       "      <td>active classic boxers - there's a reason why o...</td>\n",
       "    </tr>\n",
       "    <tr>\n",
       "      <th>1</th>\n",
       "      <td>2</td>\n",
       "      <td>Active sport boxer briefs - Skinning up Glory ...</td>\n",
       "      <td>active sport boxer  iefs - skinning up glory r...</td>\n",
       "    </tr>\n",
       "    <tr>\n",
       "      <th>2</th>\n",
       "      <td>3</td>\n",
       "      <td>Active sport briefs - These superbreathable no...</td>\n",
       "      <td>active sport  iefs - these super eathable no-f...</td>\n",
       "    </tr>\n",
       "    <tr>\n",
       "      <th>3</th>\n",
       "      <td>4</td>\n",
       "      <td>Alpine guide pants - Skin in, climb ice, switc...</td>\n",
       "      <td>alpine guide pants - skin in, c mb ice, switch...</td>\n",
       "    </tr>\n",
       "    <tr>\n",
       "      <th>4</th>\n",
       "      <td>5</td>\n",
       "      <td>Alpine wind jkt - On high ridges, steep ice an...</td>\n",
       "      <td>alpine wind jkt - on high ridges, steep ice an...</td>\n",
       "    </tr>\n",
       "  </tbody>\n",
       "</table>\n",
       "</div>"
      ],
      "text/plain": [
       "   id                                        description  \\\n",
       "0   1  Active classic boxers - There's a reason why o...   \n",
       "1   2  Active sport boxer briefs - Skinning up Glory ...   \n",
       "2   3  Active sport briefs - These superbreathable no...   \n",
       "3   4  Alpine guide pants - Skin in, climb ice, switc...   \n",
       "4   5  Alpine wind jkt - On high ridges, steep ice an...   \n",
       "\n",
       "                                     clean_documents  \n",
       "0  active classic boxers - there's a reason why o...  \n",
       "1  active sport boxer  iefs - skinning up glory r...  \n",
       "2  active sport  iefs - these super eathable no-f...  \n",
       "3  alpine guide pants - skin in, c mb ice, switch...  \n",
       "4  alpine wind jkt - on high ridges, steep ice an...  "
      ]
     },
     "execution_count": 5,
     "metadata": {},
     "output_type": "execute_result"
    }
   ],
   "source": [
    "data['clean_documents'] = data['description'].str.replace(r\"[^A-Za-z0-9 ]+\", \" \")\n",
    "data['clean_documents'] = data['description'].str.replace(r\"<[a-z/]+>\", \" \") \n",
    "data['clean_documents'] = data['description'].str.replace(r\"<[a-z/]+>\", \" \") \n",
    "data['clean_documents'] = data['clean_documents'].str.replace(r\"[^A-Za-z]+\", \" \") \n",
    "data['clean_documents'] = data['clean_documents'].fillna('').apply(lambda x: x.lower())\n",
    "data['clean_documents'] = data['clean_documents'].str.replace(\"br\", \" \")\n",
    "data['clean_documents'] = data['clean_documents'].str.replace(\"ul\", \" \")\n",
    "data['clean_documents'] = data['clean_documents'].str.replace(\"li\", \" \")\n",
    "data.head()"
   ]
  },
  {
   "cell_type": "code",
   "execution_count": 8,
   "metadata": {},
   "outputs": [
    {
     "name": "stdout",
     "output_type": "stream",
     "text": [
      "Description du 1er produit :  Active classic boxers There s a reason why our boxers are a cult favorite they keep their cool especially in sticky situations The quick drying lightweight underwear takes up minimal space in a travel pack An exposed brushed waistband offers next to skin softness five panel construction with a traditional boxer back for a classic fit and a functional fly Made of oz recycled polyester with moisture wicking performance Inseam size M is Recyclable through the Common Threads Recycling Program Details Silky Capilene fabric is ultralight breathable and quick to dry Exposed brushed elastic waistband for comfort panel construction with traditional boxer back Inseam size M is Fabric oz all recycled polyester with Gladiodor natural odor control for the garment Recyclable through the Common Threads Recycling Program Weight g oz Made in Mexico \n"
     ]
    }
   ],
   "source": [
    "print('Description du 1er produit : ',data.loc[0,'clean_documents'])"
   ]
  },
  {
   "cell_type": "markdown",
   "metadata": {},
   "source": [
    "#### tokenization - lemmalization & stop word"
   ]
  },
  {
   "cell_type": "raw",
   "metadata": {},
   "source": [
    " tokenization : est le processus de division du texte en un ensemble de pièces significatives.\n",
    "Dans notre projet les tokens sont les mots (cela peut être phrase, sentence, paragraph)"
   ]
  },
  {
   "cell_type": "code",
   "execution_count": 9,
   "metadata": {},
   "outputs": [
    {
     "data": {
      "text/html": [
       "<div>\n",
       "<style scoped>\n",
       "    .dataframe tbody tr th:only-of-type {\n",
       "        vertical-align: middle;\n",
       "    }\n",
       "\n",
       "    .dataframe tbody tr th {\n",
       "        vertical-align: top;\n",
       "    }\n",
       "\n",
       "    .dataframe thead th {\n",
       "        text-align: right;\n",
       "    }\n",
       "</style>\n",
       "<table border=\"1\" class=\"dataframe\">\n",
       "  <thead>\n",
       "    <tr style=\"text-align: right;\">\n",
       "      <th></th>\n",
       "      <th>id</th>\n",
       "      <th>description</th>\n",
       "      <th>clean_documents</th>\n",
       "    </tr>\n",
       "  </thead>\n",
       "  <tbody>\n",
       "    <tr>\n",
       "      <th>0</th>\n",
       "      <td>1</td>\n",
       "      <td>Active classic boxers - There's a reason why o...</td>\n",
       "      <td>[active, classic, boxer, there, s, reason, box...</td>\n",
       "    </tr>\n",
       "    <tr>\n",
       "      <th>1</th>\n",
       "      <td>2</td>\n",
       "      <td>Active sport boxer briefs - Skinning up Glory ...</td>\n",
       "      <td>[active, sport, boxer, brief, skin, Glory, req...</td>\n",
       "    </tr>\n",
       "    <tr>\n",
       "      <th>2</th>\n",
       "      <td>3</td>\n",
       "      <td>Active sport briefs - These superbreathable no...</td>\n",
       "      <td>[active, sport, brief, these, superbreathable,...</td>\n",
       "    </tr>\n",
       "    <tr>\n",
       "      <th>3</th>\n",
       "      <td>4</td>\n",
       "      <td>Alpine guide pants - Skin in, climb ice, switc...</td>\n",
       "      <td>[alpine, guide, pant, skin, climb, ice, switch...</td>\n",
       "    </tr>\n",
       "    <tr>\n",
       "      <th>4</th>\n",
       "      <td>5</td>\n",
       "      <td>Alpine wind jkt - On high ridges, steep ice an...</td>\n",
       "      <td>[alpine, wind, jkt, on, high, ridge, steep, ic...</td>\n",
       "    </tr>\n",
       "  </tbody>\n",
       "</table>\n",
       "</div>"
      ],
      "text/plain": [
       "   id                                        description  \\\n",
       "0   1  Active classic boxers - There's a reason why o...   \n",
       "1   2  Active sport boxer briefs - Skinning up Glory ...   \n",
       "2   3  Active sport briefs - These superbreathable no...   \n",
       "3   4  Alpine guide pants - Skin in, climb ice, switc...   \n",
       "4   5  Alpine wind jkt - On high ridges, steep ice an...   \n",
       "\n",
       "                                     clean_documents  \n",
       "0  [active, classic, boxer, there, s, reason, box...  \n",
       "1  [active, sport, boxer, brief, skin, Glory, req...  \n",
       "2  [active, sport, brief, these, superbreathable,...  \n",
       "3  [alpine, guide, pant, skin, climb, ice, switch...  \n",
       "4  [alpine, wind, jkt, on, high, ridge, steep, ic...  "
      ]
     },
     "execution_count": 9,
     "metadata": {},
     "output_type": "execute_result"
    }
   ],
   "source": [
    "data[\"clean_documents\"] = data[\"clean_documents\"].apply(lambda x: [token.lemma_ for token in nlp(x) if token.text not in STOP_WORDS])\n",
    "data.head()\n",
    "\n"
   ]
  },
  {
   "cell_type": "code",
   "execution_count": 10,
   "metadata": {},
   "outputs": [
    {
     "data": {
      "text/html": [
       "<div>\n",
       "<style scoped>\n",
       "    .dataframe tbody tr th:only-of-type {\n",
       "        vertical-align: middle;\n",
       "    }\n",
       "\n",
       "    .dataframe tbody tr th {\n",
       "        vertical-align: top;\n",
       "    }\n",
       "\n",
       "    .dataframe thead th {\n",
       "        text-align: right;\n",
       "    }\n",
       "</style>\n",
       "<table border=\"1\" class=\"dataframe\">\n",
       "  <thead>\n",
       "    <tr style=\"text-align: right;\">\n",
       "      <th></th>\n",
       "      <th>id</th>\n",
       "      <th>description</th>\n",
       "      <th>clean_documents</th>\n",
       "      <th>nlp_description</th>\n",
       "    </tr>\n",
       "  </thead>\n",
       "  <tbody>\n",
       "    <tr>\n",
       "      <th>0</th>\n",
       "      <td>1</td>\n",
       "      <td>Active classic boxers - There's a reason why o...</td>\n",
       "      <td>[active, classic, boxer, there, s, reason, box...</td>\n",
       "      <td>active classic boxer there s reason boxer cult...</td>\n",
       "    </tr>\n",
       "    <tr>\n",
       "      <th>1</th>\n",
       "      <td>2</td>\n",
       "      <td>Active sport boxer briefs - Skinning up Glory ...</td>\n",
       "      <td>[active, sport, boxer, brief, skin, Glory, req...</td>\n",
       "      <td>active sport boxer brief skin Glory require mo...</td>\n",
       "    </tr>\n",
       "    <tr>\n",
       "      <th>2</th>\n",
       "      <td>3</td>\n",
       "      <td>Active sport briefs - These superbreathable no...</td>\n",
       "      <td>[active, sport, brief, these, superbreathable,...</td>\n",
       "      <td>active sport brief these superbreathable fly b...</td>\n",
       "    </tr>\n",
       "    <tr>\n",
       "      <th>3</th>\n",
       "      <td>4</td>\n",
       "      <td>Alpine guide pants - Skin in, climb ice, switc...</td>\n",
       "      <td>[alpine, guide, pant, skin, climb, ice, switch...</td>\n",
       "      <td>alpine guide pant skin climb ice switch rock t...</td>\n",
       "    </tr>\n",
       "    <tr>\n",
       "      <th>4</th>\n",
       "      <td>5</td>\n",
       "      <td>Alpine wind jkt - On high ridges, steep ice an...</td>\n",
       "      <td>[alpine, wind, jkt, on, high, ridge, steep, ic...</td>\n",
       "      <td>alpine wind jkt on high ridge steep ice alpine...</td>\n",
       "    </tr>\n",
       "  </tbody>\n",
       "</table>\n",
       "</div>"
      ],
      "text/plain": [
       "   id                                        description  \\\n",
       "0   1  Active classic boxers - There's a reason why o...   \n",
       "1   2  Active sport boxer briefs - Skinning up Glory ...   \n",
       "2   3  Active sport briefs - These superbreathable no...   \n",
       "3   4  Alpine guide pants - Skin in, climb ice, switc...   \n",
       "4   5  Alpine wind jkt - On high ridges, steep ice an...   \n",
       "\n",
       "                                     clean_documents  \\\n",
       "0  [active, classic, boxer, there, s, reason, box...   \n",
       "1  [active, sport, boxer, brief, skin, Glory, req...   \n",
       "2  [active, sport, brief, these, superbreathable,...   \n",
       "3  [alpine, guide, pant, skin, climb, ice, switch...   \n",
       "4  [alpine, wind, jkt, on, high, ridge, steep, ic...   \n",
       "\n",
       "                                     nlp_description  \n",
       "0  active classic boxer there s reason boxer cult...  \n",
       "1  active sport boxer brief skin Glory require mo...  \n",
       "2  active sport brief these superbreathable fly b...  \n",
       "3  alpine guide pant skin climb ice switch rock t...  \n",
       "4  alpine wind jkt on high ridge steep ice alpine...  "
      ]
     },
     "execution_count": 10,
     "metadata": {},
     "output_type": "execute_result"
    }
   ],
   "source": [
    "# on insére les mots dans une colonne nlp_description\n",
    "data[\"nlp_description\"] = [\" \".join(x) for x in data['clean_documents']]\n",
    "data.head()"
   ]
  },
  {
   "cell_type": "markdown",
   "metadata": {},
   "source": [
    "#### TF-IDF vector : term frequency-inverse document frequency "
   ]
  },
  {
   "cell_type": "raw",
   "metadata": {},
   "source": [
    "mettre definition"
   ]
  },
  {
   "cell_type": "code",
   "execution_count": null,
   "metadata": {},
   "outputs": [],
   "source": [
    "vectorizer = TfidfVectorizer(stop_words='english', smooth_idf=True)\n",
    "X = vectorizer.fit_transform(data['nlp_description'])\n"
   ]
  },
  {
   "cell_type": "code",
   "execution_count": null,
   "metadata": {},
   "outputs": [],
   "source": [
    "# densité du tableau\n",
    "\n",
    "dense = X.toarray()\n",
    "dense\n"
   ]
  },
  {
   "cell_type": "code",
   "execution_count": null,
   "metadata": {},
   "outputs": [],
   "source": [
    "# On obtient une matrice sparse avec de 500 lignes et 3761 colonnes  => 3761 mots\n",
    "\n",
    "print(X.shape)"
   ]
  },
  {
   "cell_type": "code",
   "execution_count": null,
   "metadata": {},
   "outputs": [],
   "source": [
    "# dictionnaire d'occurences\n",
    "\n",
    "#vectorizer.vocabulary_"
   ]
  },
  {
   "cell_type": "code",
   "execution_count": null,
   "metadata": {},
   "outputs": [],
   "source": []
  },
  {
   "cell_type": "markdown",
   "metadata": {},
   "source": [
    "### Part 1 : Groups of products with similar descriptions"
   ]
  },
  {
   "cell_type": "raw",
   "metadata": {},
   "source": [
    "Nous pouvons utiliser DBSCAN pour effectuer un regroupement sur la matrice TF-IDF.\n",
    "Lorsqu'il s'agit de texte, la métrique de distance à utiliser est \"cosinus\" au lieu de \"euclidien\".\n",
    "Vous devez trouver des valeurs pour eps et min_samples qui permettent d'obtenir 10 à 20 clusters et pas trop de valeurs aberrantes."
   ]
  },
  {
   "cell_type": "code",
   "execution_count": null,
   "metadata": {},
   "outputs": [],
   "source": [
    "# Instanciate DBSCAN \n",
    "db_cluster = DBSCAN(eps=0.7, min_samples=4, metric=\"cosine\", algorithm=\"brute\")\n",
    "\n",
    "# Fit on data \n",
    "## No need to normalize data, it already is! \n",
    "db_cluster.fit(dense)"
   ]
  },
  {
   "cell_type": "code",
   "execution_count": null,
   "metadata": {},
   "outputs": [],
   "source": [
    "dense[:5,:5]"
   ]
  },
  {
   "cell_type": "code",
   "execution_count": null,
   "metadata": {},
   "outputs": [],
   "source": [
    "# nb de cluster\n",
    "\n",
    "#db_cluster.labels_"
   ]
  },
  {
   "cell_type": "code",
   "execution_count": null,
   "metadata": {},
   "outputs": [],
   "source": [
    "# pr chaque doc mettre nous avons le cluster\n",
    "\n",
    "data['cluster'] = db_cluster.labels_\n",
    "\n",
    "data.head()"
   ]
  },
  {
   "cell_type": "code",
   "execution_count": null,
   "metadata": {},
   "outputs": [],
   "source": [
    "# -1 est du bruit = outlier\n",
    "\n",
    "data.cluster.value_counts()"
   ]
  },
  {
   "cell_type": "code",
   "execution_count": null,
   "metadata": {},
   "outputs": [],
   "source": [
    "# visualisation des clusters\n",
    "\n",
    "#fig = px.scatter_mapbox(\n",
    " #       data[data.cluster != -1], \n",
    "  #      lat=\"lat\", \n",
    "  #      lon=\"lng\",\n",
    "  #      color=\"cluster\",\n",
    "  #      mapbox_style=\"carto-positron\"\n",
    "#)\n",
    "\n",
    " #fig.show()"
   ]
  },
  {
   "cell_type": "code",
   "execution_count": null,
   "metadata": {},
   "outputs": [],
   "source": [
    "# Word cloud pour voir les clusters\n",
    "\n",
    "wd = wordcloud.WordCloud()\n",
    "for c in data['cluster'].value_counts().index[:20] :\n",
    "    print(\"CLUSTER \", c)\n",
    "    texts = \" \".join(data.loc[data['cluster']==c,'nlp_description'])\n",
    "    cloud = wd.generate(texts)\n",
    "    plt.imshow(cloud)\n",
    "    plt.show()\n",
    "    print('-----------')"
   ]
  },
  {
   "cell_type": "code",
   "execution_count": null,
   "metadata": {},
   "outputs": [],
   "source": []
  },
  {
   "cell_type": "markdown",
   "metadata": {},
   "source": [
    "#### Part 2 - Recommender system"
   ]
  },
  {
   "cell_type": "markdown",
   "metadata": {},
   "source": [
    "🎯\n",
    "\n",
    "Then, you can use the cluster ids from part 1 to build a recommender system. The aim is to be able to suggest to a user some products that are similar to the ones he is interested in. To do this, we will consider that products belonging to the same cluster are similar.\n",
    "\n",
    "Ensuite, vous pouvez utiliser les identifiants de cluster de la partie 1 pour créer un système de recommandation. Le but est de pouvoir proposer à un utilisateur des produits similaires à ceux qui l'intéressent. Pour ce faire, nous considérerons que les produits appartenant à un même cluster sont similaires.\n",
    "\n",
    "Create a function named find_similar_items that takes an argument item_id representing the id of a product, and that returns a list of 5 item ids that belong to the same cluster as the product passed in argument\n",
    "Use python's input() function to allow the user to choose a product and perform some suggestions of similar items"
   ]
  },
  {
   "cell_type": "code",
   "execution_count": null,
   "metadata": {},
   "outputs": [],
   "source": [
    "def find_similar_product(product_id):\n",
    "    \"\"\"\n",
    "    liste de 5 id de produit qui appartiennent au même cluster\n",
    "    \"\"\"\n",
    "    choose_product = data.loc[data['id']==product_id, 'cluster'].values[0] # choix du produit par l'id\n",
    "    similar_product = data.loc[data['cluster']==choose_product,:].sample(5) # 5 lignes du dataframes au hasard\n",
    "    id_similar_product = similar_product['id']\n",
    "    return id_similar_product\n",
    "  "
   ]
  },
  {
   "cell_type": "code",
   "execution_count": null,
   "metadata": {},
   "outputs": [],
   "source": [
    "pd.set_option('display.max_rows', data.shape[0]+1)\n",
    "print(data[['id','description']])\n"
   ]
  },
  {
   "cell_type": "code",
   "execution_count": null,
   "metadata": {},
   "outputs": [],
   "source": [
    "a = data.loc[data['id']==3, 'cluster'].values[0]\n",
    "b = data.loc[data['cluster']== a,:].sample(5)\n",
    "c = b['id']\n",
    "\n",
    "for i in c:\n",
    "    print(i)"
   ]
  },
  {
   "cell_type": "code",
   "execution_count": null,
   "metadata": {},
   "outputs": [],
   "source": [
    "#data[data.id == 50]"
   ]
  },
  {
   "cell_type": "raw",
   "metadata": {},
   "source": [
    "product_id = int(input(\"indiquer l'id du produit que vous désirez ? \"))\n",
    "choose = find_similar_product(product_id)\n",
    "  \n",
    "print(\"\")\n",
    "print('Produit selectionné : ',data.loc[product_id,'nlp_description'])\n",
    "\n",
    "print(\"-------\")\n",
    "\n",
    "print(\"\")\n",
    "print(\"\")\n",
    "print(\"D'aprés l'analyse de vos choix, nous vous proposons 5 produits similaires :\")\n",
    "print(\"\")\n",
    "\n",
    "for i in choose:\n",
    "    #print(data[data['id'] == i].nlp_description)\n",
    "    print(data.loc[i,'nlp_description'])\n",
    "    print(\"-------\")\n"
   ]
  },
  {
   "cell_type": "code",
   "execution_count": null,
   "metadata": {},
   "outputs": [],
   "source": [
    "product_id = int(input(\"indiquer l'id du produit que vous désirez ? \"))\n",
    "print(\"\")\n",
    "\n",
    "try:\n",
    "    choose = find_similar_product(product_id)\n",
    "except:\n",
    "    print(\"Produit non trouvé\")\n",
    "else:\n",
    "    print('Produit selectionné : ',data.loc[product_id,'nlp_description'])\n",
    "\n",
    "    print(\"-------\")\n",
    "\n",
    "    print(\"\")\n",
    "    print(\"\")\n",
    "    print(\"D'aprés l'analyse de vos choix, nous vous proposons 5 produits similaires :\")\n",
    "    print(\"\")\n",
    "\n",
    "    for i in choose:\n",
    "        print(data.loc[i,'nlp_description'])\n",
    "        print(\"-------\")"
   ]
  },
  {
   "cell_type": "markdown",
   "metadata": {},
   "source": [
    "#### Topic modeling"
   ]
  },
  {
   "cell_type": "markdown",
   "metadata": {},
   "source": [
    "🎯\n",
    "This part is independant from the two others.\n",
    "The aim is to use an LSA model to automatically extract latent topics in the products descriptions.\n",
    "\n",
    "Cette partie est indépendante des deux autres.\n",
    "L'objectif est d'utiliser un modèle LSA pour extraire automatiquement les sujets latents dans les descriptions des produits."
   ]
  },
  {
   "cell_type": "code",
   "execution_count": null,
   "metadata": {},
   "outputs": [],
   "source": [
    "# SVD represent documents and terms in vectors \n",
    "svd_model = TruncatedSVD(n_components=10, algorithm='randomized', n_iter=100, random_state=122)\n",
    "lsa = svd_model.fit_transform(X)\n",
    "\n",
    "topic_encoded_df = pd.DataFrame(lsa, columns = [\"topic_\" + str(i) for i in range(lsa.shape[1])])\n",
    "topic_encoded_df[\"documents\"] = data['nlp_description']\n",
    "topic_encoded_df.head(2)"
   ]
  },
  {
   "cell_type": "code",
   "execution_count": null,
   "metadata": {},
   "outputs": [],
   "source": []
  },
  {
   "cell_type": "code",
   "execution_count": null,
   "metadata": {},
   "outputs": [],
   "source": [
    "def extract_main_topics(x):\n",
    "    topics = np.abs(x)\n",
    "    main_topic = topics.sort_values(ascending=False).index[0]\n",
    "    return main_topic\n",
    "\n",
    "# Initialize column `main_topics` with NANs\n",
    "topic_encoded_df.loc[:, 'main_topic'] = np.nan\n",
    "\n",
    "for i, row in topic_encoded_df.iloc[:,:-2].iterrows():\n",
    "    topic_encoded_df.loc[i, 'main_topic'] = extract_main_topics(row)\n",
    "\n",
    "topic_encoded_df.head(2)"
   ]
  },
  {
   "cell_type": "code",
   "execution_count": null,
   "metadata": {},
   "outputs": [],
   "source": [
    "# resultat LSA\n",
    "topic_encoded_df['main_topic'].value_counts()"
   ]
  },
  {
   "cell_type": "code",
   "execution_count": null,
   "metadata": {},
   "outputs": [],
   "source": [
    "# mots plus fréquents\n",
    "\n",
    "# Create DataFrame containing the description of each topic in terms of the words in the vocabulary\n",
    "topics_description = pd.DataFrame(svd_model.components_, columns = vectorizer.get_feature_names(), \n",
    "                                  index = ['topic_' + str(i) for i in range(svd_model.components_.shape[0])])\n",
    "\n",
    "# Compute absolute values of coefficients\n",
    "topics_description = topics_description.apply(np.abs, axis = 1)\n",
    "\n",
    "topics_description.head()"
   ]
  },
  {
   "cell_type": "code",
   "execution_count": null,
   "metadata": {},
   "outputs": [],
   "source": [
    "# Loop over each topic and print 5 most important words\n",
    "for i,row in topics_description.iterrows():\n",
    "    print('TOPIC ', i)\n",
    "    \n",
    "    print(row.sort_values(ascending=False)[0:10].index.tolist())"
   ]
  },
  {
   "cell_type": "code",
   "execution_count": null,
   "metadata": {},
   "outputs": [],
   "source": [
    "svd_model.explained_variance_ratio_"
   ]
  },
  {
   "cell_type": "code",
   "execution_count": null,
   "metadata": {},
   "outputs": [],
   "source": []
  },
  {
   "cell_type": "code",
   "execution_count": null,
   "metadata": {},
   "outputs": [],
   "source": []
  },
  {
   "cell_type": "code",
   "execution_count": null,
   "metadata": {},
   "outputs": [],
   "source": []
  },
  {
   "cell_type": "code",
   "execution_count": null,
   "metadata": {},
   "outputs": [],
   "source": [
    "#https://www.kaggle.com/pierrelouisdanieau/nlp-clustering-recommender-system-lsa"
   ]
  },
  {
   "cell_type": "code",
   "execution_count": null,
   "metadata": {},
   "outputs": [],
   "source": []
  },
  {
   "cell_type": "raw",
   "metadata": {},
   "source": [
    "Technique de modélisation de sujet appelée (NMF) Non-negative Matrix Factorization (factorisation matricielle non négative).\n",
    "\n",
    "La factorisation matricielle non négative est une méthode statistique qui nous aide à réduire la dimension des corpus d'entrée ou des corpus. En interne, il utilise la méthode d'analyse factorielle pour donner relativement moins de poids aux mots qui ont moins de cohérence.\n",
    "\n",
    "https://medium.com/voice-tech-podcast/topic-modelling-using-nmf-2f510d962b6e"
   ]
  },
  {
   "cell_type": "code",
   "execution_count": null,
   "metadata": {},
   "outputs": [],
   "source": []
  },
  {
   "cell_type": "code",
   "execution_count": 39,
   "metadata": {},
   "outputs": [
    {
     "data": {
      "text/html": [
       "<div>\n",
       "<style scoped>\n",
       "    .dataframe tbody tr th:only-of-type {\n",
       "        vertical-align: middle;\n",
       "    }\n",
       "\n",
       "    .dataframe tbody tr th {\n",
       "        vertical-align: top;\n",
       "    }\n",
       "\n",
       "    .dataframe thead th {\n",
       "        text-align: right;\n",
       "    }\n",
       "</style>\n",
       "<table border=\"1\" class=\"dataframe\">\n",
       "  <thead>\n",
       "    <tr style=\"text-align: right;\">\n",
       "      <th></th>\n",
       "      <th>id</th>\n",
       "      <th>description</th>\n",
       "    </tr>\n",
       "  </thead>\n",
       "  <tbody>\n",
       "    <tr>\n",
       "      <th>0</th>\n",
       "      <td>1</td>\n",
       "      <td>Active classic boxers - There's a reason why o...</td>\n",
       "    </tr>\n",
       "    <tr>\n",
       "      <th>1</th>\n",
       "      <td>2</td>\n",
       "      <td>Active sport boxer briefs - Skinning up Glory ...</td>\n",
       "    </tr>\n",
       "    <tr>\n",
       "      <th>2</th>\n",
       "      <td>3</td>\n",
       "      <td>Active sport briefs - These superbreathable no...</td>\n",
       "    </tr>\n",
       "    <tr>\n",
       "      <th>3</th>\n",
       "      <td>4</td>\n",
       "      <td>Alpine guide pants - Skin in, climb ice, switc...</td>\n",
       "    </tr>\n",
       "    <tr>\n",
       "      <th>4</th>\n",
       "      <td>5</td>\n",
       "      <td>Alpine wind jkt - On high ridges, steep ice an...</td>\n",
       "    </tr>\n",
       "  </tbody>\n",
       "</table>\n",
       "</div>"
      ],
      "text/plain": [
       "   id                                        description\n",
       "0   1  Active classic boxers - There's a reason why o...\n",
       "1   2  Active sport boxer briefs - Skinning up Glory ...\n",
       "2   3  Active sport briefs - These superbreathable no...\n",
       "3   4  Alpine guide pants - Skin in, climb ice, switc...\n",
       "4   5  Alpine wind jkt - On high ridges, steep ice an..."
      ]
     },
     "execution_count": 39,
     "metadata": {},
     "output_type": "execute_result"
    }
   ],
   "source": [
    "npr = pd.read_csv('src/North_face_data.csv')\n",
    "npr.head()"
   ]
  },
  {
   "cell_type": "code",
   "execution_count": 40,
   "metadata": {},
   "outputs": [
    {
     "data": {
      "text/plain": [
       "<500x2627 sparse matrix of type '<class 'numpy.float64'>'\n",
       "\twith 32658 stored elements in Compressed Sparse Row format>"
      ]
     },
     "execution_count": 40,
     "metadata": {},
     "output_type": "execute_result"
    }
   ],
   "source": [
    "tfidf = TfidfVectorizer(max_df=0.95, min_df=2, stop_words='english')\n",
    "\n",
    "dtm = tfidf.fit_transform(npr['description'])\n",
    "\n",
    "dtm"
   ]
  },
  {
   "cell_type": "code",
   "execution_count": 41,
   "metadata": {},
   "outputs": [],
   "source": [
    "from sklearn.decomposition import NMF"
   ]
  },
  {
   "cell_type": "code",
   "execution_count": 42,
   "metadata": {},
   "outputs": [
    {
     "data": {
      "text/plain": [
       "NMF(n_components=10, random_state=42)"
      ]
     },
     "execution_count": 42,
     "metadata": {},
     "output_type": "execute_result"
    }
   ],
   "source": [
    "# on entraine le modele : peut prendre du temps si gros dataset\n",
    "nmf_model.fit(dtm)"
   ]
  },
  {
   "cell_type": "code",
   "execution_count": 43,
   "metadata": {},
   "outputs": [
    {
     "name": "stdout",
     "output_type": "stream",
     "text": [
      "THE TOP 10 WORDS FOR TOPIC #0\n",
      "['shoulder', 'zippered', 'polyester', 'compartment', 'water', 'polyurethane', 'strap', 'denier', 'pocket', 'mesh']\n",
      "\n",
      "\n",
      "THE TOP 10 WORDS FOR TOPIC #1\n",
      "['cotton', 'organic', 'free', 'shoulder', 'inks', 'pvc', 'phthalate', 'ringspun', 'taped', 'shirt']\n",
      "\n",
      "\n",
      "THE TOP 10 WORDS FOR TOPIC #2\n",
      "['beneath', 'baselayer', 'layers', 'brushed', 'garment', 'odor', 'natural', 'capilene', 'gladiodor', 'control']\n",
      "\n",
      "\n",
      "THE TOP 10 WORDS FOR TOPIC #3\n",
      "['waistband', 'closure', 'size', 'zip', 'fly', 'pants', 'nylon', 'shorts', 'pockets', 'inseam']\n",
      "\n",
      "\n",
      "THE TOP 10 WORDS FOR TOPIC #4\n",
      "['skin', 'naturally', 'dry', 'slow', 'machine', 'lay', 'odor', 'wash', 'wool', 'merino']\n",
      "\n",
      "\n",
      "THE TOP 10 WORDS FOR TOPIC #5\n",
      "['rise', 'blend', 'hips', 'improved', 'lined', 'nylon', 'coverage', 'spandex', '18', '82']\n",
      "\n",
      "\n",
      "THE TOP 10 WORDS FOR TOPIC #6\n",
      "['thailand', 'tencel', 'recyclable', 'common', 'threads', 'program', 'recycling', 'button', 'cotton', 'organic']\n",
      "\n",
      "\n",
      "THE TOP 10 WORDS FOR TOPIC #7\n",
      "['catalog', 'site', 'dimensions', 'brighten', 'soy', 'outdoor', 'passion', 'printed', 'outside', 'photos']\n",
      "\n",
      "\n",
      "THE TOP 10 WORDS FOR TOPIC #8\n",
      "['shell', 'layer', 'water', 'finish', 'h2no', 'dwr', 'breathable', 'barrier', 'deluge', 'waterproof']\n",
      "\n",
      "\n",
      "THE TOP 10 WORDS FOR TOPIC #9\n",
      "['84', 'runshade', 'recycled', 'rashguard', 'collar', 'polyester', '30', 'protection', 'upf', 'sun']\n",
      "\n",
      "\n"
     ]
    }
   ],
   "source": [
    "for index,topic in enumerate(nmf_model.components_):\n",
    "    print(f'THE TOP 10 WORDS FOR TOPIC #{index}')\n",
    "    print([tfidf.get_feature_names()[i] for i in topic.argsort()[-10:]])\n",
    "    print('\\n')"
   ]
  },
  {
   "cell_type": "code",
   "execution_count": null,
   "metadata": {},
   "outputs": [],
   "source": [
    "# new column to the original quora dataframe that labels each question into one of the 10 topic categories."
   ]
  },
  {
   "cell_type": "code",
   "execution_count": 44,
   "metadata": {},
   "outputs": [
    {
     "data": {
      "text/plain": [
       "(500, 10)"
      ]
     },
     "execution_count": 44,
     "metadata": {},
     "output_type": "execute_result"
    }
   ],
   "source": [
    "topic_results = nmf_model.transform(dtm)\n",
    "topic_results.shape"
   ]
  },
  {
   "cell_type": "code",
   "execution_count": 45,
   "metadata": {},
   "outputs": [],
   "source": [
    "npr['Topic'] = topic_results.argmax(axis=1)"
   ]
  },
  {
   "cell_type": "code",
   "execution_count": 46,
   "metadata": {},
   "outputs": [
    {
     "data": {
      "text/html": [
       "<div>\n",
       "<style scoped>\n",
       "    .dataframe tbody tr th:only-of-type {\n",
       "        vertical-align: middle;\n",
       "    }\n",
       "\n",
       "    .dataframe tbody tr th {\n",
       "        vertical-align: top;\n",
       "    }\n",
       "\n",
       "    .dataframe thead th {\n",
       "        text-align: right;\n",
       "    }\n",
       "</style>\n",
       "<table border=\"1\" class=\"dataframe\">\n",
       "  <thead>\n",
       "    <tr style=\"text-align: right;\">\n",
       "      <th></th>\n",
       "      <th>id</th>\n",
       "      <th>description</th>\n",
       "      <th>Topic</th>\n",
       "    </tr>\n",
       "  </thead>\n",
       "  <tbody>\n",
       "    <tr>\n",
       "      <th>0</th>\n",
       "      <td>1</td>\n",
       "      <td>Active classic boxers - There's a reason why o...</td>\n",
       "      <td>2</td>\n",
       "    </tr>\n",
       "    <tr>\n",
       "      <th>1</th>\n",
       "      <td>2</td>\n",
       "      <td>Active sport boxer briefs - Skinning up Glory ...</td>\n",
       "      <td>3</td>\n",
       "    </tr>\n",
       "    <tr>\n",
       "      <th>2</th>\n",
       "      <td>3</td>\n",
       "      <td>Active sport briefs - These superbreathable no...</td>\n",
       "      <td>2</td>\n",
       "    </tr>\n",
       "    <tr>\n",
       "      <th>3</th>\n",
       "      <td>4</td>\n",
       "      <td>Alpine guide pants - Skin in, climb ice, switc...</td>\n",
       "      <td>3</td>\n",
       "    </tr>\n",
       "    <tr>\n",
       "      <th>4</th>\n",
       "      <td>5</td>\n",
       "      <td>Alpine wind jkt - On high ridges, steep ice an...</td>\n",
       "      <td>8</td>\n",
       "    </tr>\n",
       "  </tbody>\n",
       "</table>\n",
       "</div>"
      ],
      "text/plain": [
       "   id                                        description  Topic\n",
       "0   1  Active classic boxers - There's a reason why o...      2\n",
       "1   2  Active sport boxer briefs - Skinning up Glory ...      3\n",
       "2   3  Active sport briefs - These superbreathable no...      2\n",
       "3   4  Alpine guide pants - Skin in, climb ice, switc...      3\n",
       "4   5  Alpine wind jkt - On high ridges, steep ice an...      8"
      ]
     },
     "execution_count": 46,
     "metadata": {},
     "output_type": "execute_result"
    }
   ],
   "source": [
    "npr.head()"
   ]
  },
  {
   "cell_type": "code",
   "execution_count": 47,
   "metadata": {},
   "outputs": [
    {
     "data": {
      "text/plain": [
       "6    99\n",
       "8    79\n",
       "3    79\n",
       "1    61\n",
       "9    40\n",
       "0    40\n",
       "2    37\n",
       "5    34\n",
       "4    23\n",
       "7     8\n",
       "Name: Topic, dtype: int64"
      ]
     },
     "execution_count": 47,
     "metadata": {},
     "output_type": "execute_result"
    }
   ],
   "source": [
    "npr.Topic.value_counts()"
   ]
  },
  {
   "cell_type": "code",
   "execution_count": 48,
   "metadata": {},
   "outputs": [
    {
     "data": {
      "text/plain": [
       "'Active classic boxers - There\\'s a reason why our boxers are a cult favorite - they keep their cool, especially in sticky situations. The quick-drying, lightweight underwear takes up minimal space in a travel pack. An exposed, brushed waistband offers next-to-skin softness, five-panel construction with a traditional boxer back for a classic fit, and a functional fly. Made of 3.7-oz 100% recycled polyester with moisture-wicking performance. Inseam (size M) is 4 1/2\". Recyclable through the Common Threads Recycling Program.<br><br><b>Details:</b><ul> <li>\"Silky Capilene 1 fabric is ultralight, breathable and quick-to-dry\"</li> <li>\"Exposed, brushed elastic waistband for comfort\"</li> <li>5-panel construction with traditional boxer back</li> <li>\"Inseam (size M) is 4 1/2\"\"\"</li></ul><br><br><b>Fabric: </b>3.7-oz 100% all-recycled polyester with Gladiodor natural odor control for the garment. Recyclable through the Common Threads Recycling Program<br><br><b>Weight: </b>99 g (3.5 oz)<br><br>Made in Mexico.'"
      ]
     },
     "execution_count": 48,
     "metadata": {},
     "output_type": "execute_result"
    }
   ],
   "source": [
    "npr.description[0]"
   ]
  },
  {
   "cell_type": "code",
   "execution_count": 49,
   "metadata": {},
   "outputs": [
    {
     "name": "stdout",
     "output_type": "stream",
     "text": [
      "THE TOP 10 WORDS FOR TOPIC #0\n",
      "['shoulder', 'zippered', 'polyester', 'compartment', 'water', 'polyurethane', 'strap', 'denier', 'pocket', 'mesh']\n",
      "\n",
      "\n",
      "THE TOP 10 WORDS FOR TOPIC #1\n",
      "['cotton', 'organic', 'free', 'shoulder', 'inks', 'pvc', 'phthalate', 'ringspun', 'taped', 'shirt']\n",
      "\n",
      "\n",
      "THE TOP 10 WORDS FOR TOPIC #2\n",
      "['beneath', 'baselayer', 'layers', 'brushed', 'garment', 'odor', 'natural', 'capilene', 'gladiodor', 'control']\n",
      "\n",
      "\n",
      "THE TOP 10 WORDS FOR TOPIC #3\n",
      "['waistband', 'closure', 'size', 'zip', 'fly', 'pants', 'nylon', 'shorts', 'pockets', 'inseam']\n",
      "\n",
      "\n",
      "THE TOP 10 WORDS FOR TOPIC #4\n",
      "['skin', 'naturally', 'dry', 'slow', 'machine', 'lay', 'odor', 'wash', 'wool', 'merino']\n",
      "\n",
      "\n",
      "THE TOP 10 WORDS FOR TOPIC #5\n",
      "['rise', 'blend', 'hips', 'improved', 'lined', 'nylon', 'coverage', 'spandex', '18', '82']\n",
      "\n",
      "\n",
      "THE TOP 10 WORDS FOR TOPIC #6\n",
      "['thailand', 'tencel', 'recyclable', 'common', 'threads', 'program', 'recycling', 'button', 'cotton', 'organic']\n",
      "\n",
      "\n",
      "THE TOP 10 WORDS FOR TOPIC #7\n",
      "['catalog', 'site', 'dimensions', 'brighten', 'soy', 'outdoor', 'passion', 'printed', 'outside', 'photos']\n",
      "\n",
      "\n",
      "THE TOP 10 WORDS FOR TOPIC #8\n",
      "['shell', 'layer', 'water', 'finish', 'h2no', 'dwr', 'breathable', 'barrier', 'deluge', 'waterproof']\n",
      "\n",
      "\n",
      "THE TOP 10 WORDS FOR TOPIC #9\n",
      "['84', 'runshade', 'recycled', 'rashguard', 'collar', 'polyester', '30', 'protection', 'upf', 'sun']\n",
      "\n",
      "\n"
     ]
    }
   ],
   "source": [
    "for index,topic in enumerate(nmf_model.components_):\n",
    "    print(f'THE TOP 10 WORDS FOR TOPIC #{index}')\n",
    "    print([tfidf.get_feature_names()[i] for i in topic.argsort()[-10:]])\n",
    "    print('\\n')"
   ]
  },
  {
   "cell_type": "code",
   "execution_count": null,
   "metadata": {},
   "outputs": [],
   "source": []
  }
 ],
 "metadata": {
  "kernelspec": {
   "display_name": "Python 3",
   "language": "python",
   "name": "python3"
  },
  "language_info": {
   "codemirror_mode": {
    "name": "ipython",
    "version": 3
   },
   "file_extension": ".py",
   "mimetype": "text/x-python",
   "name": "python",
   "nbconvert_exporter": "python",
   "pygments_lexer": "ipython3",
   "version": "3.8.5"
  }
 },
 "nbformat": 4,
 "nbformat_minor": 4
}
