{
 "cells": [
  {
   "cell_type": "raw",
   "metadata": {},
   "source": [
    "https://www.youtube.com/watch?v=RerDL93sBdY"
   ]
  },
  {
   "cell_type": "code",
   "execution_count": 1,
   "metadata": {},
   "outputs": [],
   "source": [
    "import boto3"
   ]
  },
  {
   "cell_type": "code",
   "execution_count": 2,
   "metadata": {},
   "outputs": [],
   "source": [
    "client = boto3.client('s3')"
   ]
  },
  {
   "cell_type": "code",
   "execution_count": null,
   "metadata": {},
   "outputs": [],
   "source": [
    "# creation Bucket AWS\n",
    "\n",
    "#client.create_bucket(Bucket='kayak-bucket')"
   ]
  },
  {
   "cell_type": "code",
   "execution_count": 3,
   "metadata": {},
   "outputs": [],
   "source": [
    "# Listing buckets\n",
    "\n",
    "client = boto3.client('s3')\n",
    "response = client.list_buckets()"
   ]
  },
  {
   "cell_type": "code",
   "execution_count": 4,
   "metadata": {},
   "outputs": [
    {
     "name": "stdout",
     "output_type": "stream",
     "text": [
      "[{'Name': 'bucket-kayak', 'CreationDate': datetime.datetime(2022, 3, 4, 11, 48, 56, tzinfo=tzutc())}]\n"
     ]
    }
   ],
   "source": [
    "\n",
    "print(response['Buckets'])"
   ]
  },
  {
   "cell_type": "raw",
   "metadata": {},
   "source": [
    "# https://s3.console.aws.amazon.com/s3/buckets/bucket-kayak?region=eu-west-3&tab=permissions\n",
    "# Stratégie de compartiment modifiée avec succès.\n",
    "\n",
    "{\n",
    "    \"Version\": \"2012-10-17\",\n",
    "    \"Statement\": [\n",
    "        {\n",
    "            \"Sid\": \"Statement1\",\n",
    "            \"Effect\": \"Allow\",\n",
    "            \"Principal\": \"*\",\n",
    "            \"Action\": [\n",
    "                \"s3:PutObject\",\n",
    "                \"s3:PutObjectAcl\",\n",
    "                \"s3:GetObject\",\n",
    "                \"s3:GetObjectAcl\",\n",
    "                \"s3:AbortMultipartUpload\"\n",
    "            ],\n",
    "            \"Resource\": [\n",
    "                \"arn:aws:s3:::bucket-kayak/*\",\n",
    "                \"arn:aws:s3:::bucket-kayak\"\n",
    "            ]\n",
    "        }\n",
    "    ]\n",
    "}\n",
    "\n"
   ]
  },
  {
   "cell_type": "code",
   "execution_count": 5,
   "metadata": {},
   "outputs": [],
   "source": [
    "# uploading files dazns le bucket\n",
    "\n",
    "def upload_files(file_name, bucket, object_name=None, args=None):\n",
    "    '''\n",
    "    file_name : name of file local computer\n",
    "    bucket : bucket name\n",
    "    object_name : name of file on S3\n",
    "    args : custom args\n",
    "    '''\n",
    "    \n",
    "    if object_name is None:\n",
    "        object_name = file_name\n",
    "    \n",
    "    response = client.upload_files(file_name, bucket, object_name, ExtraArgs=args)\n",
    "    \n",
    "    print(response)\n",
    "    "
   ]
  },
  {
   "cell_type": "code",
   "execution_count": 7,
   "metadata": {},
   "outputs": [],
   "source": [
    "#upload_files('booking_meteo.csv', 'kayak-bucket')"
   ]
  },
  {
   "cell_type": "code",
   "execution_count": 8,
   "metadata": {},
   "outputs": [],
   "source": [
    "# Download files from S3\n",
    "\n",
    "s3 = boto3.resource('s3')"
   ]
  },
  {
   "cell_type": "code",
   "execution_count": 9,
   "metadata": {},
   "outputs": [
    {
     "data": {
      "text/plain": [
       "[s3.Bucket(name='bucket-kayak')]"
      ]
     },
     "execution_count": 9,
     "metadata": {},
     "output_type": "execute_result"
    }
   ],
   "source": [
    "list(s3.buckets.all())"
   ]
  },
  {
   "cell_type": "code",
   "execution_count": 10,
   "metadata": {},
   "outputs": [
    {
     "data": {
      "text/plain": [
       "{'ResponseMetadata': {'RequestId': '3QBNBE8178KWBSRH',\n",
       "  'HostId': 'Z1bFQuDot5VV2ldgl3VmUyxCmJvBe5CE8rsLuBg7f0EnLD7Z3W9EMx5ZsFiCdW3r/MQkNwjAzYo=',\n",
       "  'HTTPStatusCode': 200,\n",
       "  'HTTPHeaders': {'x-amz-id-2': 'Z1bFQuDot5VV2ldgl3VmUyxCmJvBe5CE8rsLuBg7f0EnLD7Z3W9EMx5ZsFiCdW3r/MQkNwjAzYo=',\n",
       "   'x-amz-request-id': '3QBNBE8178KWBSRH',\n",
       "   'date': 'Mon, 07 Mar 2022 05:36:45 GMT',\n",
       "   'content-type': 'application/xml',\n",
       "   'transfer-encoding': 'chunked',\n",
       "   'server': 'AmazonS3'},\n",
       "  'RetryAttempts': 0},\n",
       " 'Buckets': [{'Name': 'bucket-kayak',\n",
       "   'CreationDate': datetime.datetime(2022, 3, 4, 11, 48, 56, tzinfo=tzutc())}],\n",
       " 'Owner': {'ID': '648c3eb0d291e7895ef305f5133ce6b48445d71341ffa214e1cac5aeba6c686e'}}"
      ]
     },
     "execution_count": 10,
     "metadata": {},
     "output_type": "execute_result"
    }
   ],
   "source": [
    "client.list_buckets()"
   ]
  },
  {
   "cell_type": "code",
   "execution_count": 11,
   "metadata": {},
   "outputs": [],
   "source": [
    "# docs dans dans le bucket\n",
    "bucket = s3.Bucket('bucket-kayak')\n"
   ]
  },
  {
   "cell_type": "code",
   "execution_count": 12,
   "metadata": {},
   "outputs": [],
   "source": [
    "files = list(bucket.objects.all())"
   ]
  },
  {
   "cell_type": "code",
   "execution_count": null,
   "metadata": {},
   "outputs": [],
   "source": [
    "# download du csv dans le dossier\n",
    "\n",
    "for file in files:\n",
    "    client.download_file('bucket-kayak', file.key, file.key)\n"
   ]
  },
  {
   "cell_type": "code",
   "execution_count": null,
   "metadata": {},
   "outputs": [],
   "source": []
  },
  {
   "cell_type": "code",
   "execution_count": null,
   "metadata": {},
   "outputs": [],
   "source": [
    "# requetes\n",
    "\n",
    "https://www.youtube.com/watch?v=byKbYwOJwps\n",
    "    "
   ]
  },
  {
   "cell_type": "code",
   "execution_count": null,
   "metadata": {},
   "outputs": [],
   "source": [
    "# creation database avec AWS RDS \n",
    "\n",
    "# DB instance identifier: database-1\n",
    "# username : admin\n",
    "# pass : 12345678\n",
    "# host:  database-1.cx3o2skb3pmo.eu-west-3.rds.amazonaws.com\n",
    "# port : 3306"
   ]
  },
  {
   "cell_type": "code",
   "execution_count": null,
   "metadata": {},
   "outputs": [],
   "source": [
    "#!pip install PyMySQL\n"
   ]
  },
  {
   "cell_type": "code",
   "execution_count": 13,
   "metadata": {},
   "outputs": [],
   "source": [
    "import pymysql"
   ]
  },
  {
   "cell_type": "code",
   "execution_count": 15,
   "metadata": {},
   "outputs": [],
   "source": [
    "db = pymysql.connect(host='database-1.cx3o2skb3pmo.eu-west-3.rds.amazonaws.com',\n",
    "                     user='admin',\n",
    "                     password='12345678',\n",
    "                     database = '',\n",
    "                     charset='utf8mb4',cursorclass=pymysql.cursors.DictCursor)\n"
   ]
  },
  {
   "cell_type": "code",
   "execution_count": 16,
   "metadata": {},
   "outputs": [],
   "source": [
    "cursor = db.cursor()"
   ]
  },
  {
   "cell_type": "code",
   "execution_count": 18,
   "metadata": {},
   "outputs": [],
   "source": [
    "#data = cursor.fetchone()"
   ]
  },
  {
   "cell_type": "code",
   "execution_count": 19,
   "metadata": {},
   "outputs": [
    {
     "data": {
      "text/plain": [
       "1"
      ]
     },
     "execution_count": 19,
     "metadata": {},
     "output_type": "execute_result"
    }
   ],
   "source": [
    "cursor.execute('select version()')"
   ]
  },
  {
   "cell_type": "code",
   "execution_count": null,
   "metadata": {},
   "outputs": [],
   "source": [
    "# création table dans la base de données "
   ]
  },
  {
   "cell_type": "raw",
   "metadata": {},
   "source": [
    "'''\n",
    "sql = '''DROP DATABASE kayak_bucket'''\n",
    "cursor.execute(sql)\n",
    "'''\n",
    "\n",
    "'''\n",
    "sql = '''DROP table Kayak'''\n",
    "cursor.execute(sql)\n",
    "'''"
   ]
  },
  {
   "cell_type": "code",
   "execution_count": 77,
   "metadata": {},
   "outputs": [
    {
     "data": {
      "text/plain": [
       "0"
      ]
     },
     "execution_count": 77,
     "metadata": {},
     "output_type": "execute_result"
    }
   ],
   "source": [
    "\n",
    "sql = '''DROP table Kayak'''\n",
    "cursor.execute(sql)\n"
   ]
  },
  {
   "cell_type": "code",
   "execution_count": 60,
   "metadata": {},
   "outputs": [],
   "source": [
    "# 1 - creation de la database\n",
    "sql = '''CREATE DATABASE kayak_bucket'''\n",
    "cursor.execute(sql)\n"
   ]
  },
  {
   "cell_type": "code",
   "execution_count": 61,
   "metadata": {},
   "outputs": [],
   "source": [
    "cursor.connection.commit()"
   ]
  },
  {
   "cell_type": "code",
   "execution_count": 62,
   "metadata": {},
   "outputs": [
    {
     "data": {
      "text/plain": [
       "0"
      ]
     },
     "execution_count": 62,
     "metadata": {},
     "output_type": "execute_result"
    }
   ],
   "source": [
    "sql = '''use kayak_bucket'''\n",
    "cursor.execute(sql)"
   ]
  },
  {
   "cell_type": "code",
   "execution_count": 63,
   "metadata": {},
   "outputs": [
    {
     "data": {
      "text/plain": [
       "0"
      ]
     },
     "execution_count": 63,
     "metadata": {},
     "output_type": "execute_result"
    }
   ],
   "source": [
    "# 2 - creation de la table\n",
    "\n",
    "sql = '''\n",
    "create table Kayak(\n",
    "name_hotel text,\n",
    "price text,\n",
    "adress_hotel text,\n",
    "appreciation_hotel text,\n",
    "review_hotel float,\n",
    "nb_exp_vecu_hotel text,\n",
    "indic  text,\n",
    "ville text,\n",
    "longitude float,\n",
    "latitude float,\n",
    "temperature float,\n",
    "tx_humidite text\n",
    ")\n",
    "'''\n",
    "cursor.execute(sql)\n",
    "\n"
   ]
  },
  {
   "cell_type": "code",
   "execution_count": null,
   "metadata": {},
   "outputs": [],
   "source": []
  },
  {
   "cell_type": "code",
   "execution_count": 65,
   "metadata": {},
   "outputs": [],
   "source": [
    "sql = \"insert into `Kayak` (`name_hotel`,`price`,`adress_hotel`,`appreciation_hotel`,`review_hotel`,`nb_exp_vecu_hotel`,`indic`,`ville`,`longitude`,`latitude`,`temperature`,`tx_humidite`) VALUES (%s, %s, %s, %s, %s, %s, %s, %s, %s, %s, %s, %s)\"\n",
    "\n",
    "# Execute the query\n",
    "cursor.execute(sql,('Elysées Ceramic', '595', '8e arr., Paris', 'Exceptionnel', 9.5, '380 expériences vécues','8e arr.', 'Paris', 2.3488, 48.8534, 5.76, '34'))\n",
    "\n",
    "# the connection \n",
    "cursor.connection.commit()\n",
    "\n"
   ]
  },
  {
   "cell_type": "raw",
   "metadata": {},
   "source": [
    "# Create a new query that selects the entire contents of `Kayak`\n",
    "sql = \"SELECT * FROM `Kayak`\"\n",
    "cursor.execute(sql)\n",
    "\n",
    "# Fetch all the records and use a for loop to print them one line at a time\n",
    "result = cursor.fetchall()\n",
    "for i in result:\n",
    "    print(i)"
   ]
  },
  {
   "cell_type": "code",
   "execution_count": null,
   "metadata": {},
   "outputs": [],
   "source": []
  },
  {
   "cell_type": "code",
   "execution_count": 68,
   "metadata": {},
   "outputs": [
    {
     "data": {
      "text/plain": [
       "[{'name_hotel': 'Elysées Ceramic',\n",
       "  'price': '595',\n",
       "  'adress_hotel': '8e arr., Paris',\n",
       "  'appreciation_hotel': 'Exceptionnel',\n",
       "  'review_hotel': 9.5,\n",
       "  'nb_exp_vecu_hotel': '380 expériences vécues',\n",
       "  'indic': '8e arr.',\n",
       "  'ville': 'Paris',\n",
       "  'longitude': 2.3488,\n",
       "  'latitude': 48.8534,\n",
       "  'temperature': 5.76,\n",
       "  'tx_humidite': '34'}]"
      ]
     },
     "execution_count": 68,
     "metadata": {},
     "output_type": "execute_result"
    }
   ],
   "source": [
    "\n",
    "sql = '''SELECT * FROM Kayak'''\n",
    "cursor.execute(sql)\n",
    "cursor.fetchall()"
   ]
  },
  {
   "cell_type": "code",
   "execution_count": null,
   "metadata": {},
   "outputs": [],
   "source": [
    "# Creation 2 tables ville_hotel et ville_meto"
   ]
  },
  {
   "cell_type": "code",
   "execution_count": 72,
   "metadata": {},
   "outputs": [
    {
     "data": {
      "text/plain": [
       "0"
      ]
     },
     "execution_count": 72,
     "metadata": {},
     "output_type": "execute_result"
    }
   ],
   "source": [
    "sql = '''\n",
    "create table ville_hotel(\n",
    "name_hotel text,\n",
    "ville text\n",
    ")\n",
    "'''\n",
    "cursor.execute(sql)\n"
   ]
  },
  {
   "cell_type": "code",
   "execution_count": 80,
   "metadata": {},
   "outputs": [
    {
     "data": {
      "text/plain": [
       "0"
      ]
     },
     "execution_count": 80,
     "metadata": {},
     "output_type": "execute_result"
    }
   ],
   "source": [
    "sql = '''\n",
    "create table ville_meteo(\n",
    "ville text,\n",
    "temperature float\n",
    ")\n",
    "'''\n",
    "cursor.execute(sql)\n"
   ]
  },
  {
   "cell_type": "code",
   "execution_count": 81,
   "metadata": {},
   "outputs": [
    {
     "data": {
      "text/plain": [
       "[{'Tables_in_kayak_bucket': 'Kayak'},\n",
       " {'Tables_in_kayak_bucket': 'ville_hotel'},\n",
       " {'Tables_in_kayak_bucket': 'ville_meteo'}]"
      ]
     },
     "execution_count": 81,
     "metadata": {},
     "output_type": "execute_result"
    }
   ],
   "source": [
    "sql = '''show tables'''\n",
    "cursor.execute(sql)\n",
    "cursor.fetchall()"
   ]
  },
  {
   "cell_type": "code",
   "execution_count": null,
   "metadata": {},
   "outputs": [],
   "source": []
  },
  {
   "cell_type": "code",
   "execution_count": null,
   "metadata": {},
   "outputs": [],
   "source": [
    "# Close the connection\n",
    "cursor.connection.close()"
   ]
  },
  {
   "cell_type": "code",
   "execution_count": null,
   "metadata": {},
   "outputs": [],
   "source": []
  },
  {
   "cell_type": "raw",
   "metadata": {},
   "source": [
    " 0   name_hotel          44 non-null     object \n",
    " 1   price               44 non-null     object \n",
    " 2   adress_hotel        44 non-null     object \n",
    " 3   appreciation_hotel  44 non-null     object \n",
    " 4   review_hotel        44 non-null     float64\n",
    " 5   nb_exp_vecu_hotel   44 non-null     object \n",
    " 6   indic               44 non-null     object \n",
    " 7   ville               44 non-null     object \n",
    " 8   longitude           44 non-null     float64\n",
    " 9   latitude            44 non-null     float64\n",
    " 10  temperature         44 non-null     float64\n",
    " 11  tx_humidite         44 non-null     object "
   ]
  },
  {
   "cell_type": "code",
   "execution_count": null,
   "metadata": {},
   "outputs": [],
   "source": [
    "'name_hotel','price','adress_hotel','appreciation_hotel','review_hotel','nb_exp_vecu_hotel',' indic','ville',\n",
    "'longitude','latitude','temperature','tx_humidite'\n",
    "\n"
   ]
  }
 ],
 "metadata": {
  "kernelspec": {
   "display_name": "Python 3",
   "language": "python",
   "name": "python3"
  },
  "language_info": {
   "codemirror_mode": {
    "name": "ipython",
    "version": 3
   },
   "file_extension": ".py",
   "mimetype": "text/x-python",
   "name": "python",
   "nbconvert_exporter": "python",
   "pygments_lexer": "ipython3",
   "version": "3.8.5"
  }
 },
 "nbformat": 4,
 "nbformat_minor": 4
}
