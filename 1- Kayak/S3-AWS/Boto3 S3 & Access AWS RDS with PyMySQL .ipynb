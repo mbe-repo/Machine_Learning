{
 "cells": [
  {
   "cell_type": "code",
   "execution_count": 1,
   "metadata": {},
   "outputs": [],
   "source": [
    "import boto3"
   ]
  },
  {
   "cell_type": "code",
   "execution_count": 2,
   "metadata": {},
   "outputs": [],
   "source": [
    "client = boto3.client('s3')"
   ]
  },
  {
   "cell_type": "code",
   "execution_count": 3,
   "metadata": {},
   "outputs": [],
   "source": [
    "# Listing buckets\n",
    "\n",
    "client = boto3.client('s3')\n",
    "response = client.list_buckets()"
   ]
  },
  {
   "cell_type": "code",
   "execution_count": 4,
   "metadata": {},
   "outputs": [
    {
     "name": "stdout",
     "output_type": "stream",
     "text": [
      "[{'Name': 'bucket-kayak', 'CreationDate': datetime.datetime(2022, 3, 4, 11, 48, 56, tzinfo=tzutc())}]\n"
     ]
    }
   ],
   "source": [
    "\n",
    "print(response['Buckets'])"
   ]
  },
  {
   "cell_type": "code",
   "execution_count": 5,
   "metadata": {},
   "outputs": [],
   "source": [
    "# Download files from S3\n",
    "\n",
    "s3 = boto3.resource('s3')"
   ]
  },
  {
   "cell_type": "code",
   "execution_count": null,
   "metadata": {},
   "outputs": [],
   "source": [
    "list(s3.buckets.all())"
   ]
  },
  {
   "cell_type": "code",
   "execution_count": null,
   "metadata": {},
   "outputs": [],
   "source": [
    "client.list_buckets()"
   ]
  },
  {
   "cell_type": "code",
   "execution_count": 6,
   "metadata": {},
   "outputs": [],
   "source": [
    "# docs dans dans le bucket\n",
    "bucket = s3.Bucket('bucket-kayak')\n"
   ]
  },
  {
   "cell_type": "code",
   "execution_count": 7,
   "metadata": {},
   "outputs": [],
   "source": [
    "files = list(bucket.objects.all())"
   ]
  },
  {
   "cell_type": "code",
   "execution_count": 8,
   "metadata": {},
   "outputs": [],
   "source": [
    "# download du csv dans le dossier\n",
    "\n",
    "for file in files:\n",
    "    client.download_file('bucket-kayak', file.key, file.key)\n"
   ]
  },
  {
   "cell_type": "code",
   "execution_count": null,
   "metadata": {},
   "outputs": [],
   "source": [
    "# creation database avec AWS RDS \n",
    "\n",
    "# DB instance identifier: database-1\n",
    "# username : admin\n",
    "# pass : 12345678\n",
    "# host:  database-1.cx3o2skb3pmo.eu-west-3.rds.amazonaws.com\n",
    "# port : 3306"
   ]
  },
  {
   "cell_type": "code",
   "execution_count": null,
   "metadata": {},
   "outputs": [],
   "source": [
    "#!pip install PyMySQL\n"
   ]
  },
  {
   "cell_type": "code",
   "execution_count": 9,
   "metadata": {},
   "outputs": [],
   "source": [
    "import pymysql"
   ]
  },
  {
   "cell_type": "code",
   "execution_count": 10,
   "metadata": {},
   "outputs": [],
   "source": [
    "db = pymysql.connect(host='database-1.cx3o2skb3pmo.eu-west-3.rds.amazonaws.com',\n",
    "                     user='admin',\n",
    "                     password='12345678',\n",
    "                     database = '',\n",
    "                     charset='utf8mb4',cursorclass=pymysql.cursors.DictCursor)\n"
   ]
  },
  {
   "cell_type": "code",
   "execution_count": 11,
   "metadata": {},
   "outputs": [],
   "source": [
    "cursor = db.cursor()"
   ]
  },
  {
   "cell_type": "code",
   "execution_count": 12,
   "metadata": {},
   "outputs": [
    {
     "data": {
      "text/plain": [
       "1"
      ]
     },
     "execution_count": 12,
     "metadata": {},
     "output_type": "execute_result"
    }
   ],
   "source": [
    "cursor.execute('select version()')"
   ]
  },
  {
   "cell_type": "code",
   "execution_count": null,
   "metadata": {},
   "outputs": [],
   "source": [
    "sql = '''DROP table kayak_bucket'''\n",
    "cursor.execute(sql)\n"
   ]
  },
  {
   "cell_type": "code",
   "execution_count": 22,
   "metadata": {},
   "outputs": [],
   "source": [
    "cursor.connection.commit()"
   ]
  },
  {
   "cell_type": "code",
   "execution_count": 23,
   "metadata": {},
   "outputs": [
    {
     "data": {
      "text/plain": [
       "0"
      ]
     },
     "execution_count": 23,
     "metadata": {},
     "output_type": "execute_result"
    }
   ],
   "source": [
    "sql = '''use kayak_bucket'''\n",
    "cursor.execute(sql)"
   ]
  },
  {
   "cell_type": "code",
   "execution_count": 20,
   "metadata": {},
   "outputs": [],
   "source": [
    "# 2 - creation de la table\n",
    "\n",
    "sql = '''\n",
    "create table Kayak(\n",
    "name_hotel text,\n",
    "price text,\n",
    "adress_hotel text,\n",
    "appreciation_hotel text,\n",
    "review_hotel float,\n",
    "nb_exp_vecu_hotel text,\n",
    "indic  text,\n",
    "ville text,\n",
    "longitude float,\n",
    "latitude float,\n",
    "temperature float,\n",
    "tx_humidite text\n",
    ")\n",
    "'''\n",
    "cursor.execute(sql)\n",
    "\n"
   ]
  },
  {
   "cell_type": "code",
   "execution_count": null,
   "metadata": {},
   "outputs": [],
   "source": []
  },
  {
   "cell_type": "code",
   "execution_count": null,
   "metadata": {},
   "outputs": [],
   "source": [
    "sql = \"insert into `Kayak` (`name_hotel`,`price`,`adress_hotel`,`appreciation_hotel`,`review_hotel`,`nb_exp_vecu_hotel`,`indic`,`ville`,`longitude`,`latitude`,`temperature`,`tx_humidite`) VALUES (%s, %s, %s, %s, %s, %s, %s, %s, %s, %s, %s, %s)\"\n",
    "\n",
    "# Execute the query\n",
    "cursor.execute(sql,('Elysées Ceramic', '595', '8e arr., Paris', 'Exceptionnel', 9.5, '380 expériences vécues','8e arr.', 'Paris', 2.3488, 48.8534, 5.76, '34'))\n",
    "\n",
    "# the connection \n",
    "cursor.connection.commit()\n",
    "\n"
   ]
  },
  {
   "cell_type": "raw",
   "metadata": {},
   "source": [
    "# Create a new query that selects the entire contents of `Kayak`\n",
    "sql = \"SELECT * FROM `Kayak`\"\n",
    "cursor.execute(sql)\n",
    "\n",
    "# Fetch all the records and use a for loop to print them one line at a time\n",
    "result = cursor.fetchall()\n",
    "for i in result:\n",
    "    print(i)"
   ]
  },
  {
   "cell_type": "code",
   "execution_count": null,
   "metadata": {},
   "outputs": [],
   "source": [
    "\n",
    "sql = '''SELECT * FROM Kayak'''\n",
    "cursor.execute(sql)\n",
    "cursor.fetchall()"
   ]
  },
  {
   "cell_type": "code",
   "execution_count": null,
   "metadata": {},
   "outputs": [],
   "source": [
    "# Creation 2 tables ville_hotel et ville_meto"
   ]
  },
  {
   "cell_type": "code",
   "execution_count": null,
   "metadata": {},
   "outputs": [],
   "source": [
    "sql = '''\n",
    "create table ville_hotel(\n",
    "name_hotel text,\n",
    "ville text\n",
    ")\n",
    "'''\n",
    "cursor.execute(sql)\n"
   ]
  },
  {
   "cell_type": "code",
   "execution_count": null,
   "metadata": {},
   "outputs": [],
   "source": [
    "sql = '''\n",
    "create table ville_meteo(\n",
    "ville text,\n",
    "temperature float\n",
    ")\n",
    "'''\n",
    "cursor.execute(sql)\n"
   ]
  },
  {
   "cell_type": "code",
   "execution_count": 21,
   "metadata": {},
   "outputs": [
    {
     "data": {
      "text/plain": [
       "[{'Tables_in_kayak_bucket': 'Kayak'},\n",
       " {'Tables_in_kayak_bucket': 'ville_hotel'},\n",
       " {'Tables_in_kayak_bucket': 'ville_meteo'}]"
      ]
     },
     "execution_count": 21,
     "metadata": {},
     "output_type": "execute_result"
    }
   ],
   "source": [
    "sql = '''show tables'''\n",
    "cursor.execute(sql)\n",
    "cursor.fetchall()"
   ]
  },
  {
   "cell_type": "code",
   "execution_count": null,
   "metadata": {},
   "outputs": [],
   "source": [
    "# Close the connection\n",
    "cursor.connection.close()"
   ]
  },
  {
   "cell_type": "markdown",
   "metadata": {},
   "source": [
    "### database SQL avec MySQLWorkbench\n"
   ]
  },
  {
   "cell_type": "raw",
   "metadata": {},
   "source": []
  }
 ],
 "metadata": {
  "kernelspec": {
   "display_name": "Python 3",
   "language": "python",
   "name": "python3"
  },
  "language_info": {
   "codemirror_mode": {
    "name": "ipython",
    "version": 3
   },
   "file_extension": ".py",
   "mimetype": "text/x-python",
   "name": "python",
   "nbconvert_exporter": "python",
   "pygments_lexer": "ipython3",
   "version": "3.8.5"
  }
 },
 "nbformat": 4,
 "nbformat_minor": 4
}
